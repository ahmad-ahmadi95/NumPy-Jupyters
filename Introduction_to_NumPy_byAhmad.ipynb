{
 "cells": [
  {
   "cell_type": "markdown",
   "id": "06ba0569",
   "metadata": {},
   "source": [
    "👨‍🏫 **Jupyter By:** Ahmad Ahmadi \n",
    "\n",
    "🌏 **[Website: izlearn.ir](https://izlearn.ir)**\n",
    "\n",
    "🔗 **[More Links](#more-links)**\n",
    "\n",
    "---"
   ]
  },
  {
   "cell_type": "markdown",
   "id": "fd50485f",
   "metadata": {},
   "source": [
    "## NumPy"
   ]
  },
  {
   "cell_type": "markdown",
   "id": "fd8f0d63",
   "metadata": {},
   "source": [
    "### What is NumPy? \n",
    "\n",
    "🔸 It stands for **Nu**merical **Py**thon.\n",
    "\n",
    "🔸 In machine learning we have to convert all types of data into **series of numbers**. \n",
    "\n",
    "🔸 NumPy is essential package for **data analysis**\n",
    "\n",
    "🔸 [Numpy Documentation](https://numpy.org/doc/2.1/user/absolute_beginners.html)\n",
    "\n",
    "---"
   ]
  },
  {
   "cell_type": "markdown",
   "id": "c9ced593",
   "metadata": {},
   "source": [
    "### Why NumPy?\n",
    "\n",
    "🔸 It's **fast**.\n",
    "\n",
    "🔸 Behind the scenes the optimization code was written in **C** language! (a very powerful & fast programming language)\n",
    "\n",
    "🔸 NumPy supports techniques called **vectorization** and **broadcasting** that help us avoid using loops!\n",
    "\n",
    "🔸 See image of [vectorization](Jupyter-Images/vectorization-&-broadcasting-in-numpy-01.png) and [broadcasting](Jupyter-Images/vectorization-&-broadcasting-in-numpy-02.png) in NumPy.\n",
    "\n",
    "---"
   ]
  },
  {
   "cell_type": "code",
   "execution_count": 1,
   "id": "0e161ab2",
   "metadata": {},
   "outputs": [],
   "source": [
    "# import numpy package:\n",
    "import numpy as np"
   ]
  },
  {
   "cell_type": "markdown",
   "id": "210aaafa",
   "metadata": {},
   "source": [
    "### NumPy's DataTypes & Attributes\n",
    "\n",
    "🔸 NumPy's main datatype is just **ndarray**,\n",
    "\n",
    "🔸 **ndarray** means **n** dimensional array."
   ]
  },
  {
   "cell_type": "code",
   "execution_count": 2,
   "id": "11806aea",
   "metadata": {},
   "outputs": [],
   "source": [
    "# Use np.array() to create an array in 'NumPy'\n",
    "my_list = [5, 7, 10]\n",
    "array1 = np.array(my_list)"
   ]
  },
  {
   "cell_type": "code",
   "execution_count": 3,
   "id": "fcea8f17",
   "metadata": {},
   "outputs": [
    {
     "data": {
      "text/plain": [
       "array([ 5,  7, 10])"
      ]
     },
     "execution_count": 3,
     "metadata": {},
     "output_type": "execute_result"
    }
   ],
   "source": [
    "# Return 'array1'\n",
    "array1"
   ]
  },
  {
   "cell_type": "code",
   "execution_count": 4,
   "id": "b729a332",
   "metadata": {},
   "outputs": [
    {
     "data": {
      "text/plain": [
       "numpy.ndarray"
      ]
     },
     "execution_count": 4,
     "metadata": {},
     "output_type": "execute_result"
    }
   ],
   "source": [
    "# Check the type of 'array1'\n",
    "type(array1)"
   ]
  },
  {
   "cell_type": "code",
   "execution_count": 7,
   "id": "af74e652",
   "metadata": {},
   "outputs": [
    {
     "data": {
      "text/plain": [
       "array([[1., 2., 3.],\n",
       "       [4., 5., 6.]])"
      ]
     },
     "execution_count": 7,
     "metadata": {},
     "output_type": "execute_result"
    }
   ],
   "source": [
    "# More arrays\n",
    "array2 = np.array([[1.0, 2.0, 3.0],\n",
    "                  [4.0, 5.0, 6.0]])\n",
    "array2"
   ]
  },
  {
   "cell_type": "code",
   "execution_count": 8,
   "id": "b6173119",
   "metadata": {},
   "outputs": [
    {
     "data": {
      "text/plain": [
       "array([[[ 1,  2,  3],\n",
       "        [ 4,  5,  6],\n",
       "        [ 7,  8,  9]],\n",
       "\n",
       "       [[10, 11, 12],\n",
       "        [13, 14, 15],\n",
       "        [16, 17, 18]]])"
      ]
     },
     "execution_count": 8,
     "metadata": {},
     "output_type": "execute_result"
    }
   ],
   "source": [
    "array3 = np.array([[[1, 2, 3],\n",
    "                   [4, 5, 6],\n",
    "                   [7, 8, 9]],\n",
    "                   [[10, 11, 12],\n",
    "                   [13, 14, 15],\n",
    "                   [16, 17, 18]]])\n",
    "\n",
    "array3"
   ]
  },
  {
   "cell_type": "markdown",
   "id": "c68caf78",
   "metadata": {},
   "source": [
    "---\n",
    "<a name='more-links'></a>\n",
    "### THE END \n",
    "\n",
    "🔸 If you want to be in touch with **me** (Ahmad Ahmadi), click this [link](https://t.me/izlearn_support) to be taken to my **Telegram**.\n",
    "\n",
    "🔸 If you have a **LinkedIn** account, [this](https://linkedin.com/in/ahmad-ahmadi95/) is my page I will be happy to have you as my connections.\n",
    "\n",
    "🔸 Finally using this [link](https://zarinp.al/454855)(Iran) and this [link](https://paylink.payment4.com/fa/izlearn/2572d5b8-9ece-48ba-8014-3192ed9274e2)(out of Iran) you're able to **donate🎁** and **support** our team. 🤙🏼"
   ]
  }
 ],
 "metadata": {
  "kernelspec": {
   "display_name": "Python 3 (ipykernel)",
   "language": "python",
   "name": "python3"
  },
  "language_info": {
   "codemirror_mode": {
    "name": "ipython",
    "version": 3
   },
   "file_extension": ".py",
   "mimetype": "text/x-python",
   "name": "python",
   "nbconvert_exporter": "python",
   "pygments_lexer": "ipython3",
   "version": "3.9.5"
  }
 },
 "nbformat": 4,
 "nbformat_minor": 5
}
