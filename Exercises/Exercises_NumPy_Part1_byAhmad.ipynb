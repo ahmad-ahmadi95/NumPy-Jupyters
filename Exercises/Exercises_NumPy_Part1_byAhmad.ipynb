{
 "cells": [
  {
   "cell_type": "markdown",
   "id": "e3b795c6",
   "metadata": {},
   "source": [
    "## NumPy Exercises\n",
    "\n",
    "🔸 In this jupyter notebook we'll provied you **41** exercises in **NumPy** library.\n",
    "\n",
    "🔸 These exercises are directly taken from **quick introduction to NumPy notebook**.\n",
    "\n",
    "👀 If you get stuck, try searching for question in the following format: `how to do SOMETHING with numpy` and **SOMETHING** is the function you want to use in NumPy.\n",
    "\n",
    "🤝🏼 This jupyter notebook is designed by [Ahmad Ahmadi](https://www.linkedin.com/in/ahmad-ahmadi95/).\n",
    "\n",
    "---"
   ]
  },
  {
   "cell_type": "markdown",
   "id": "b936d8ef",
   "metadata": {},
   "source": [
    "🔸 **Q1.** Import `NumPy` as its short name `np`."
   ]
  },
  {
   "cell_type": "markdown",
   "id": "5521088c",
   "metadata": {},
   "source": [
    "🔹 **Answer**"
   ]
  },
  {
   "cell_type": "code",
   "execution_count": null,
   "id": "c40c5a04",
   "metadata": {},
   "outputs": [],
   "source": []
  },
  {
   "cell_type": "markdown",
   "id": "d52d5c69",
   "metadata": {},
   "source": [
    "🔸 **Q2.** Create `one-dimensional` NumPy array using `np.array( )` function."
   ]
  },
  {
   "cell_type": "markdown",
   "id": "ccee7d8b",
   "metadata": {},
   "source": [
    "🔹 **Answer**"
   ]
  },
  {
   "cell_type": "code",
   "execution_count": null,
   "id": "454a902b",
   "metadata": {},
   "outputs": [],
   "source": []
  },
  {
   "cell_type": "code",
   "execution_count": null,
   "id": "2ad5edb1",
   "metadata": {},
   "outputs": [],
   "source": [
    "one_dim_array"
   ]
  },
  {
   "cell_type": "markdown",
   "id": "3adbd9bf",
   "metadata": {},
   "source": [
    "🔸 **Q3.** Create `two-dimensional` NumPy array using `np.array( )` function."
   ]
  },
  {
   "cell_type": "markdown",
   "id": "688fb4b4",
   "metadata": {},
   "source": [
    "🔹 **Answer**"
   ]
  },
  {
   "cell_type": "code",
   "execution_count": null,
   "id": "c7fa31b5",
   "metadata": {},
   "outputs": [],
   "source": []
  },
  {
   "cell_type": "code",
   "execution_count": null,
   "id": "e2e7afd1",
   "metadata": {},
   "outputs": [],
   "source": [
    "two_dim_array"
   ]
  },
  {
   "cell_type": "markdown",
   "id": "7ba2427f",
   "metadata": {},
   "source": [
    "🔸 **Q4.** Create `three-dimensional` NumPy array using `np.array( )` function."
   ]
  },
  {
   "cell_type": "markdown",
   "id": "9048dc34",
   "metadata": {},
   "source": [
    "🔹 **Answer**"
   ]
  },
  {
   "cell_type": "code",
   "execution_count": null,
   "id": "a26b1b7f",
   "metadata": {},
   "outputs": [],
   "source": []
  },
  {
   "cell_type": "code",
   "execution_count": null,
   "id": "1a66c42a",
   "metadata": {},
   "outputs": [],
   "source": [
    "three_dim_array"
   ]
  },
  {
   "cell_type": "markdown",
   "id": "a5a3320c",
   "metadata": {},
   "source": [
    "🙋🏽‍♂️ We've created **three different arrays**; `one_dim_array`, `two_dim_array`, `three_dim_array`.\n",
    "\n",
    "🔸 **Q5.** Find the **shape**, **number of dimensions**, **data type**, **size** and **type** of each array."
   ]
  },
  {
   "cell_type": "markdown",
   "id": "5a7440cd",
   "metadata": {},
   "source": [
    "🔹 **Answer**"
   ]
  },
  {
   "cell_type": "code",
   "execution_count": null,
   "id": "d59a014f",
   "metadata": {},
   "outputs": [],
   "source": [
    "print(f\"Shape of one_dim_array: {}\")\n",
    "print(f\"Shape of two_dim_array: {}\")\n",
    "print(f\"Shape of three_dim_array: {}\")\n",
    "print('------')\n",
    "print(f\"ndim of one_dim_array: {}\")\n",
    "print(f\"ndim of two_dim_array: {}\")\n",
    "print(f\"ndim of three_dim_array: {}\")\n",
    "print(f\"------\")\n",
    "print(f\"data types of one_dim_array: {}\")\n",
    "print(f\"data types of two_dim_array: {}\")\n",
    "print(f\"data types of three_dim_array: {}\")\n",
    "print(f\"------\")\n",
    "print(f\"size of one_dim_array: {}\")\n",
    "print(f\"size of two_dim_array: {}\")\n",
    "print(f\"size of three_dim_array: {}\")\n",
    "print(f\"------\")\n",
    "print(f\"type of one_dim_array: {}\")\n",
    "print(f\"type of two_dim_array: {}\")\n",
    "print(f\"type of three_dim-array: {}\")"
   ]
  },
  {
   "cell_type": "markdown",
   "id": "8cfeb9f0",
   "metadata": {},
   "source": [
    "🔸 **Q6.** Import `Pandas` and create a **DataFrame** out of `two_dim_array` you've created."
   ]
  },
  {
   "cell_type": "markdown",
   "id": "8316c5ed",
   "metadata": {},
   "source": [
    "🔹 **Answer** "
   ]
  },
  {
   "cell_type": "code",
   "execution_count": null,
   "id": "94890649",
   "metadata": {},
   "outputs": [],
   "source": [
    "# import 'pandas' here\n"
   ]
  },
  {
   "cell_type": "code",
   "execution_count": null,
   "id": "f60992c3",
   "metadata": {},
   "outputs": [],
   "source": []
  },
  {
   "cell_type": "code",
   "execution_count": null,
   "id": "3ba78175",
   "metadata": {},
   "outputs": [],
   "source": [
    "my_df"
   ]
  },
  {
   "cell_type": "markdown",
   "id": "dbeaf1b3",
   "metadata": {},
   "source": [
    "🔸 **Q7.** Create an array of shape **(10, 2)** with only **ones**."
   ]
  },
  {
   "cell_type": "markdown",
   "id": "db0236a9",
   "metadata": {},
   "source": [
    "🔹 **Answer**"
   ]
  },
  {
   "cell_type": "code",
   "execution_count": null,
   "id": "71c98641",
   "metadata": {},
   "outputs": [],
   "source": []
  },
  {
   "cell_type": "code",
   "execution_count": null,
   "id": "b5c9d7d8",
   "metadata": {},
   "outputs": [],
   "source": [
    "ones"
   ]
  },
  {
   "cell_type": "markdown",
   "id": "801efac6",
   "metadata": {},
   "source": [
    "🔸 **Q8.** Create an array of shape **(7, 2, 3)** of only **zeros**."
   ]
  },
  {
   "cell_type": "markdown",
   "id": "f6a023d3",
   "metadata": {},
   "source": [
    "🔹 **Answer**"
   ]
  },
  {
   "cell_type": "code",
   "execution_count": null,
   "id": "2e2dc637",
   "metadata": {},
   "outputs": [],
   "source": []
  },
  {
   "cell_type": "code",
   "execution_count": null,
   "id": "137d394a",
   "metadata": {},
   "outputs": [],
   "source": [
    "zeros"
   ]
  },
  {
   "cell_type": "markdown",
   "id": "4129a6e0",
   "metadata": {},
   "source": [
    "🔸 **Q9.** Create an array within a range of **0** and **100** with **step 3**."
   ]
  },
  {
   "cell_type": "markdown",
   "id": "9a6f10d9",
   "metadata": {},
   "source": [
    "🔹 **Answer**"
   ]
  },
  {
   "cell_type": "code",
   "execution_count": null,
   "id": "fc92c188",
   "metadata": {},
   "outputs": [],
   "source": []
  },
  {
   "cell_type": "code",
   "execution_count": null,
   "id": "59877788",
   "metadata": {},
   "outputs": [],
   "source": [
    "my_array1"
   ]
  },
  {
   "cell_type": "markdown",
   "id": "a661d80c",
   "metadata": {},
   "source": [
    "🔸 **Q10.** Create an array with **20** evenly spaced numbers between **1** and **100**."
   ]
  },
  {
   "cell_type": "markdown",
   "id": "2c7801de",
   "metadata": {},
   "source": [
    "🔹 **Answer**"
   ]
  },
  {
   "cell_type": "code",
   "execution_count": null,
   "id": "a8deb6ca",
   "metadata": {},
   "outputs": [],
   "source": []
  },
  {
   "cell_type": "code",
   "execution_count": null,
   "id": "638daee4",
   "metadata": {},
   "outputs": [],
   "source": [
    "my_array2"
   ]
  },
  {
   "cell_type": "markdown",
   "id": "a0dc60e6",
   "metadata": {},
   "source": [
    "🔸**Q11.** Create a **random** array with numbers between **0** and **10** of size **(7, 2)**."
   ]
  },
  {
   "cell_type": "markdown",
   "id": "ee03ea7d",
   "metadata": {},
   "source": [
    "🔹 **Answer**"
   ]
  },
  {
   "cell_type": "code",
   "execution_count": null,
   "id": "b18b5ec7",
   "metadata": {},
   "outputs": [],
   "source": []
  },
  {
   "cell_type": "code",
   "execution_count": null,
   "id": "24d4529d",
   "metadata": {},
   "outputs": [],
   "source": [
    "random_array1"
   ]
  },
  {
   "cell_type": "markdown",
   "id": "ab64c70e",
   "metadata": {},
   "source": [
    "🔸**Q12.** Create a **random** array of **floats** between **0** and **1** of shape **(3, 5)**."
   ]
  },
  {
   "cell_type": "markdown",
   "id": "233af912",
   "metadata": {},
   "source": [
    "🔹**Answer**"
   ]
  },
  {
   "cell_type": "code",
   "execution_count": null,
   "id": "c6755bc1",
   "metadata": {},
   "outputs": [],
   "source": []
  },
  {
   "cell_type": "code",
   "execution_count": null,
   "id": "0bed541c",
   "metadata": {},
   "outputs": [],
   "source": [
    "random_array2"
   ]
  },
  {
   "cell_type": "markdown",
   "id": "d2a0cf84",
   "metadata": {},
   "source": [
    "---\n",
    "\n",
    "💡 Set the **random seed** to **7**.\n",
    "\n",
    "---"
   ]
  },
  {
   "cell_type": "markdown",
   "id": "1b4cb8b7",
   "metadata": {},
   "source": [
    "🔸 **Q13.** Create a **random** array of numbers between **0** & **10** of **size (4, 6)**"
   ]
  },
  {
   "cell_type": "markdown",
   "id": "8aeaff87",
   "metadata": {},
   "source": [
    "🔹 **Answer**"
   ]
  },
  {
   "cell_type": "code",
   "execution_count": null,
   "id": "2fa6b377",
   "metadata": {},
   "outputs": [],
   "source": []
  },
  {
   "cell_type": "code",
   "execution_count": null,
   "id": "3e4ad3d4",
   "metadata": {},
   "outputs": [],
   "source": [
    "random_array3"
   ]
  },
  {
   "cell_type": "markdown",
   "id": "2729f879",
   "metadata": {},
   "source": [
    "🔸 **Q14.** Create a random of numbers between **1** & **10** of **size (3, 7)** then save it to a variable (for example `random_array4`).\n",
    "\n",
    "🔸 Finally, find **the number of unique numbers** within that array."
   ]
  },
  {
   "cell_type": "markdown",
   "id": "e71b28c1",
   "metadata": {},
   "source": [
    "🔹**Answer**"
   ]
  },
  {
   "cell_type": "code",
   "execution_count": null,
   "id": "7c93365e",
   "metadata": {},
   "outputs": [],
   "source": []
  },
  {
   "cell_type": "code",
   "execution_count": null,
   "id": "66f61bf8",
   "metadata": {},
   "outputs": [],
   "source": [
    "random_array4"
   ]
  },
  {
   "cell_type": "markdown",
   "id": "30ffbc94",
   "metadata": {},
   "source": [
    "🔸 **Q15.** Find the value at index of **0** of `random_array4` you've just created."
   ]
  },
  {
   "cell_type": "markdown",
   "id": "825679fe",
   "metadata": {},
   "source": [
    "🔹 **Answer**"
   ]
  },
  {
   "cell_type": "code",
   "execution_count": null,
   "id": "e3ed9c04",
   "metadata": {},
   "outputs": [],
   "source": []
  },
  {
   "cell_type": "markdown",
   "id": "b8e5fa47",
   "metadata": {},
   "source": [
    "🔸 **Q16.** Get the **first 2 rows** of `random_array4` you've just created."
   ]
  },
  {
   "cell_type": "markdown",
   "id": "e677b90e",
   "metadata": {},
   "source": [
    "🔹 **Answer**"
   ]
  },
  {
   "cell_type": "code",
   "execution_count": null,
   "id": "317c00af",
   "metadata": {},
   "outputs": [],
   "source": []
  },
  {
   "cell_type": "markdown",
   "id": "73f806fa",
   "metadata": {},
   "source": [
    "🔸 **Q17.** Get the **first 2 values** of the **first 2 rows** of the `random_array4`."
   ]
  },
  {
   "cell_type": "markdown",
   "id": "68286cf3",
   "metadata": {},
   "source": [
    "🔹 **Answer**"
   ]
  },
  {
   "cell_type": "code",
   "execution_count": null,
   "id": "a46dc6c3",
   "metadata": {},
   "outputs": [],
   "source": []
  },
  {
   "cell_type": "markdown",
   "id": "eb91b119",
   "metadata": {},
   "source": [
    "🔸 **Q18.** Create a **random** array of numbers between **0** and **10**, then create an array of **ones**.\n",
    "\n",
    "🔸 The sizes of **both arrays** is **(4, 6)**. \n",
    "\n",
    "🔸 Save them into variables (`random_array5` and `ones`) "
   ]
  },
  {
   "cell_type": "markdown",
   "id": "c8e51bbb",
   "metadata": {},
   "source": [
    "🔹**Answer**"
   ]
  },
  {
   "cell_type": "code",
   "execution_count": null,
   "id": "4361b356",
   "metadata": {},
   "outputs": [],
   "source": []
  },
  {
   "cell_type": "code",
   "execution_count": null,
   "id": "4ccf617b",
   "metadata": {},
   "outputs": [],
   "source": [
    "random_array5"
   ]
  },
  {
   "cell_type": "code",
   "execution_count": null,
   "id": "3d579fcd",
   "metadata": {},
   "outputs": [],
   "source": [
    "ones"
   ]
  },
  {
   "cell_type": "markdown",
   "id": "b9dcea14",
   "metadata": {},
   "source": [
    "🔸 **Q19.** Add `random_array5` and `ones` together."
   ]
  },
  {
   "cell_type": "code",
   "execution_count": null,
   "id": "71b94850",
   "metadata": {},
   "outputs": [],
   "source": []
  },
  {
   "cell_type": "markdown",
   "id": "133b676d",
   "metadata": {},
   "source": [
    "🔸 **Q20.** Create another array of **ones** (shape of **(6, 4)**) and try to **add** this `new_ones` array to `random_array5`."
   ]
  },
  {
   "cell_type": "code",
   "execution_count": null,
   "id": "62c23408",
   "metadata": {},
   "outputs": [],
   "source": []
  },
  {
   "cell_type": "markdown",
   "id": "72ec2e2f",
   "metadata": {},
   "source": [
    "---\n",
    "\n",
    "👀 When you run the previous cell, It produces the **ValueError**.\n",
    "\n",
    "---"
   ]
  },
  {
   "cell_type": "markdown",
   "id": "b7b8a24d",
   "metadata": {},
   "source": [
    "🔸 **Q21.** Subtract `ones` array from `random_array5` array."
   ]
  },
  {
   "cell_type": "markdown",
   "id": "86644caa",
   "metadata": {},
   "source": [
    "🔹 **Answer**"
   ]
  },
  {
   "cell_type": "code",
   "execution_count": null,
   "id": "f3058bce",
   "metadata": {},
   "outputs": [],
   "source": []
  },
  {
   "cell_type": "markdown",
   "id": "5ce0210b",
   "metadata": {},
   "source": [
    "🔸 **Q22.** Multiply the `random_array5` by `ones` array."
   ]
  },
  {
   "cell_type": "markdown",
   "id": "8448b48b",
   "metadata": {},
   "source": [
    "🔹 **Answer** "
   ]
  },
  {
   "cell_type": "code",
   "execution_count": null,
   "id": "93efc324",
   "metadata": {},
   "outputs": [],
   "source": [
    "# Method one -> using *\n"
   ]
  },
  {
   "cell_type": "code",
   "execution_count": null,
   "id": "23103e11",
   "metadata": {},
   "outputs": [],
   "source": [
    "# Methods two -> using np.multiply()\n"
   ]
  },
  {
   "cell_type": "markdown",
   "id": "6d7b322d",
   "metadata": {},
   "source": [
    "🔸 **Q23.** Take `random_array5` to the power of **2**."
   ]
  },
  {
   "cell_type": "code",
   "execution_count": null,
   "id": "480d5fbb",
   "metadata": {},
   "outputs": [],
   "source": [
    "# Method one -> using **\n"
   ]
  },
  {
   "cell_type": "code",
   "execution_count": null,
   "id": "c5096162",
   "metadata": {},
   "outputs": [],
   "source": [
    "# Method two -> using np.square()\n"
   ]
  },
  {
   "cell_type": "markdown",
   "id": "8226506b",
   "metadata": {},
   "source": [
    "🔸 **Q24.** Calculate the **mean** of `random_array5`."
   ]
  },
  {
   "cell_type": "markdown",
   "id": "04df55b7",
   "metadata": {},
   "source": [
    "🔹 **Answer**"
   ]
  },
  {
   "cell_type": "code",
   "execution_count": null,
   "id": "2c7da9c7",
   "metadata": {},
   "outputs": [],
   "source": [
    "# Method one -> np.mean()\n"
   ]
  },
  {
   "cell_type": "code",
   "execution_count": null,
   "id": "fcfce7f0",
   "metadata": {},
   "outputs": [],
   "source": [
    "# Method two -> your_array.mean()\n"
   ]
  },
  {
   "cell_type": "markdown",
   "id": "bc1fb8f4",
   "metadata": {},
   "source": [
    "🔸 **Q25.** Calculate the **maximum** value of `random_array5`."
   ]
  },
  {
   "cell_type": "markdown",
   "id": "6e535c6f",
   "metadata": {},
   "source": [
    "🔹 **Answer**"
   ]
  },
  {
   "cell_type": "code",
   "execution_count": null,
   "id": "111a6a0a",
   "metadata": {},
   "outputs": [],
   "source": [
    "# Method one -> np.max()\n"
   ]
  },
  {
   "cell_type": "code",
   "execution_count": null,
   "id": "3632fa39",
   "metadata": {},
   "outputs": [],
   "source": [
    "# Method two -> your_array.max()\n"
   ]
  },
  {
   "cell_type": "markdown",
   "id": "d6f74c30",
   "metadata": {},
   "source": [
    "🔸 **Q26.** Calculate the **minimum** value of `random_array5`."
   ]
  },
  {
   "cell_type": "markdown",
   "id": "3f0446f6",
   "metadata": {},
   "source": [
    "🔹 **Answer**"
   ]
  },
  {
   "cell_type": "code",
   "execution_count": null,
   "id": "d7688ff5",
   "metadata": {},
   "outputs": [],
   "source": [
    "# Method one -> np.min()\n"
   ]
  },
  {
   "cell_type": "code",
   "execution_count": null,
   "id": "d9b521e3",
   "metadata": {},
   "outputs": [],
   "source": [
    "# Method two -> your_array.min()\n"
   ]
  },
  {
   "cell_type": "markdown",
   "id": "4aa77f63",
   "metadata": {},
   "source": [
    "🔸 **Q27.** Calculate the **standard deviation** of `random_array5`. "
   ]
  },
  {
   "cell_type": "markdown",
   "id": "ae594085",
   "metadata": {},
   "source": [
    "🔹 **Answer**"
   ]
  },
  {
   "cell_type": "code",
   "execution_count": null,
   "id": "07861cc8",
   "metadata": {},
   "outputs": [],
   "source": [
    "# Method one -> np.std()\n"
   ]
  },
  {
   "cell_type": "code",
   "execution_count": null,
   "id": "9c1ea607",
   "metadata": {},
   "outputs": [],
   "source": [
    "# Method two -> your_array.std()\n"
   ]
  },
  {
   "cell_type": "markdown",
   "id": "2fe6b03f",
   "metadata": {},
   "source": [
    "🔸 **Q28.** Find the **variance** of the `random_array5`."
   ]
  },
  {
   "cell_type": "markdown",
   "id": "0ca99e44",
   "metadata": {},
   "source": [
    "🔹 **Answer**"
   ]
  },
  {
   "cell_type": "code",
   "execution_count": null,
   "id": "9188e67d",
   "metadata": {},
   "outputs": [],
   "source": [
    "# Method one -> np.var()\n"
   ]
  },
  {
   "cell_type": "code",
   "execution_count": null,
   "id": "abf0b65c",
   "metadata": {},
   "outputs": [],
   "source": [
    "# Method two -> your_array.var()\n"
   ]
  },
  {
   "cell_type": "markdown",
   "id": "cf085dfa",
   "metadata": {},
   "source": [
    "🔸 **29.** Reshape the `random_array5` to **(3, 8, 1)**"
   ]
  },
  {
   "cell_type": "markdown",
   "id": "c28e39a7",
   "metadata": {},
   "source": [
    "🔹 **Answer**"
   ]
  },
  {
   "cell_type": "code",
   "execution_count": null,
   "id": "49144b31",
   "metadata": {},
   "outputs": [],
   "source": [
    "# Method one -> np.reshape()\n"
   ]
  },
  {
   "cell_type": "code",
   "execution_count": null,
   "id": "66599636",
   "metadata": {},
   "outputs": [],
   "source": [
    "# Method two -> your_array.reshape()\n"
   ]
  },
  {
   "cell_type": "markdown",
   "id": "50d4a4f9",
   "metadata": {},
   "source": [
    "🔸 **Q30.** Transpose `random_array5`."
   ]
  },
  {
   "cell_type": "code",
   "execution_count": null,
   "id": "933eed18",
   "metadata": {},
   "outputs": [],
   "source": [
    "# Method one -> np.transpose()\n"
   ]
  },
  {
   "cell_type": "code",
   "execution_count": null,
   "id": "87e1d4cb",
   "metadata": {},
   "outputs": [],
   "source": [
    "# Method two -> your_array.T\n"
   ]
  },
  {
   "cell_type": "markdown",
   "id": "ce64dd8e",
   "metadata": {},
   "source": [
    "🔸 **Q31.** Create two arrays of **random integers** between **0** to **10**. \n",
    "\n",
    "🔸 one of size **(2, 3)** and  the other of size **(4, 3)**"
   ]
  },
  {
   "cell_type": "markdown",
   "id": "32a14287",
   "metadata": {},
   "source": [
    "🔹 **Answer** "
   ]
  },
  {
   "cell_type": "code",
   "execution_count": null,
   "id": "936eb741",
   "metadata": {},
   "outputs": [],
   "source": []
  },
  {
   "cell_type": "code",
   "execution_count": null,
   "id": "646c44f1",
   "metadata": {},
   "outputs": [],
   "source": [
    "random_int1"
   ]
  },
  {
   "cell_type": "code",
   "execution_count": null,
   "id": "52f54d90",
   "metadata": {},
   "outputs": [],
   "source": [
    "random_int2"
   ]
  },
  {
   "cell_type": "markdown",
   "id": "9d072d49",
   "metadata": {},
   "source": [
    "🔸 **Q32.** Perform a **dot product** on the `random_int1` and `random_int2`. "
   ]
  },
  {
   "cell_type": "markdown",
   "id": "c0ed4a74",
   "metadata": {},
   "source": [
    "🔹 **Answer** "
   ]
  },
  {
   "cell_type": "code",
   "execution_count": null,
   "id": "7e2129d9",
   "metadata": {},
   "outputs": [],
   "source": []
  },
  {
   "cell_type": "markdown",
   "id": "c0643302",
   "metadata": {},
   "source": [
    "---\n",
    "\n",
    "👀 When you run the previous cell, It produces the **ValueError**. \n",
    "\n",
    "---"
   ]
  },
  {
   "cell_type": "markdown",
   "id": "41877b7c",
   "metadata": {},
   "source": [
    "🔸 **Q33.** Try fix the previous error using **transpose of one of the arrays**. "
   ]
  },
  {
   "cell_type": "markdown",
   "id": "80db2460",
   "metadata": {},
   "source": [
    "🔹 **Answer**"
   ]
  },
  {
   "cell_type": "code",
   "execution_count": null,
   "id": "3fda62b7",
   "metadata": {},
   "outputs": [],
   "source": []
  },
  {
   "cell_type": "markdown",
   "id": "63344c0e",
   "metadata": {},
   "source": [
    "👀 Why this works now? \n",
    "\n",
    "🔗 Check out this [link]() to the **documentation of np.dot( )** as well as this [link](https://www.mathsisfun.com/algebra/vectors-dot-product.html) from **Math is fun**. "
   ]
  },
  {
   "cell_type": "markdown",
   "id": "087225a9",
   "metadata": {},
   "source": [
    "🔸 **Q34.** Create two arrays of **random integers** between **0** and **10** of the **same** size. \n",
    "\n",
    "🔸 Save them into different variables.\n",
    "\n",
    "🔸 Finally compare them using **>** operator."
   ]
  },
  {
   "cell_type": "markdown",
   "id": "6eea628c",
   "metadata": {},
   "source": [
    "🔹 **Answer**"
   ]
  },
  {
   "cell_type": "code",
   "execution_count": null,
   "id": "7a53ab8a",
   "metadata": {},
   "outputs": [],
   "source": []
  },
  {
   "cell_type": "code",
   "execution_count": null,
   "id": "b85ecad1",
   "metadata": {},
   "outputs": [],
   "source": [
    "random_int1"
   ]
  },
  {
   "cell_type": "code",
   "execution_count": null,
   "id": "ed595eff",
   "metadata": {},
   "outputs": [],
   "source": [
    "random_int2"
   ]
  },
  {
   "cell_type": "code",
   "execution_count": null,
   "id": "3f95beae",
   "metadata": {},
   "outputs": [],
   "source": [
    "# Compare here\n"
   ]
  },
  {
   "cell_type": "markdown",
   "id": "71150b27",
   "metadata": {},
   "source": [
    "🔸 **Q35.** Compare the two previous arrays using **>=**. "
   ]
  },
  {
   "cell_type": "markdown",
   "id": "60aeb521",
   "metadata": {},
   "source": [
    "🔹 **Answer**"
   ]
  },
  {
   "cell_type": "code",
   "execution_count": null,
   "id": "b6f046fa",
   "metadata": {},
   "outputs": [],
   "source": []
  },
  {
   "cell_type": "markdown",
   "id": "9ecb36b3",
   "metadata": {},
   "source": [
    "🔸 **Q36.** Find which elements of the **first** array are greater than **5**. "
   ]
  },
  {
   "cell_type": "markdown",
   "id": "2c95dd7a",
   "metadata": {},
   "source": [
    "🔹 **Answer**"
   ]
  },
  {
   "cell_type": "code",
   "execution_count": null,
   "id": "58ccbb62",
   "metadata": {},
   "outputs": [],
   "source": []
  },
  {
   "cell_type": "markdown",
   "id": "21dd93e3",
   "metadata": {},
   "source": [
    "🔸 **Q37.** Which parts of each array are **equal**? "
   ]
  },
  {
   "cell_type": "markdown",
   "id": "8472a6f5",
   "metadata": {},
   "source": [
    "🔹 **Answer**"
   ]
  },
  {
   "cell_type": "code",
   "execution_count": null,
   "id": "e89ff510",
   "metadata": {},
   "outputs": [],
   "source": []
  },
  {
   "cell_type": "markdown",
   "id": "f8bf6a61",
   "metadata": {},
   "source": [
    "🔸 **Q38.** Sort `random_int1` that you newly created."
   ]
  },
  {
   "cell_type": "markdown",
   "id": "d49a3fd5",
   "metadata": {},
   "source": [
    "🔹 **Answer**"
   ]
  },
  {
   "cell_type": "code",
   "execution_count": null,
   "id": "d3d5bfa4",
   "metadata": {},
   "outputs": [],
   "source": [
    "# Sort here\n"
   ]
  },
  {
   "cell_type": "code",
   "execution_count": null,
   "id": "481c3165",
   "metadata": {},
   "outputs": [],
   "source": [
    "random_int1"
   ]
  },
  {
   "cell_type": "markdown",
   "id": "72ee9f80",
   "metadata": {},
   "source": [
    "🔸 **Q39.** Sort the **indices** of `random_int1` that you newly created"
   ]
  },
  {
   "cell_type": "markdown",
   "id": "f6bf577a",
   "metadata": {},
   "source": [
    "🔹 **Answer**"
   ]
  },
  {
   "cell_type": "code",
   "execution_count": null,
   "id": "3ef8142f",
   "metadata": {},
   "outputs": [],
   "source": []
  },
  {
   "cell_type": "markdown",
   "id": "ec3cd1d0",
   "metadata": {},
   "source": [
    "🔸 **Q40.** Find the **index** of **maximum** value in `random_int2` array."
   ]
  },
  {
   "cell_type": "markdown",
   "id": "3e236f9c",
   "metadata": {},
   "source": [
    "🔹 **Answer**"
   ]
  },
  {
   "cell_type": "code",
   "execution_count": null,
   "id": "df9830d1",
   "metadata": {},
   "outputs": [],
   "source": []
  },
  {
   "cell_type": "markdown",
   "id": "cb6107a3",
   "metadata": {},
   "source": [
    "🔸 **Q41.** Find the **index** of **minimum** value in `random_int2` array."
   ]
  },
  {
   "cell_type": "markdown",
   "id": "496b0ec0",
   "metadata": {},
   "source": [
    "🔹 **Answer** "
   ]
  },
  {
   "cell_type": "code",
   "execution_count": null,
   "id": "6e65cd28",
   "metadata": {},
   "outputs": [],
   "source": []
  },
  {
   "cell_type": "markdown",
   "id": "1c34e9e9",
   "metadata": {},
   "source": [
    "---\n",
    "\n",
    "### More Resources\n",
    "\n",
    "🔗 For more  exercises, check out the [NumPy quickstart tutorial](https://numpy.org/doc/stable/user/quickstart.html).\n",
    "\n",
    "🔗 For more helpful materials, check out the [Stack Overflow page for the top questions and answers for NumPy](https://stackoverflow.com/questions/tagged/numpy?sort=MostVotes&edited=true). Most of the time as you reading the questions you can find usefull functions to learn.\n",
    "\n",
    "👀 Finally, remeber that the best way to learn something new is **to try it**. "
   ]
  },
  {
   "cell_type": "markdown",
   "id": "0f56c00c",
   "metadata": {},
   "source": [
    "---\n",
    "<a name='support-me'></a>\n",
    "### THE END \n",
    "\n",
    "🔸 If you want to be in touch with **me** (Ahmad Ahmadi), click this [link](https://t.me/izlearn_support) to be taken to my **Telegram**.\n",
    "\n",
    "🔸 If you have a **LinkedIn** account, **[this](https://linkedin.com/in/ahmad-ahmadi95/)** is my page I will be happy to have you as my connections.\n",
    "\n",
    "🔸 Finally using this **[link](https://zarinp.al/454855)**(Iran) and this **[link](https://paylink.payment4.com/fa/izlearn/2572d5b8-9ece-48ba-8014-3192ed9274e2)**(out of Iran) you're able to **donate🎁** and **support** our team. 🤙🏼"
   ]
  }
 ],
 "metadata": {
  "kernelspec": {
   "display_name": "Python 3 (ipykernel)",
   "language": "python",
   "name": "python3"
  },
  "language_info": {
   "codemirror_mode": {
    "name": "ipython",
    "version": 3
   },
   "file_extension": ".py",
   "mimetype": "text/x-python",
   "name": "python",
   "nbconvert_exporter": "python",
   "pygments_lexer": "ipython3",
   "version": "3.9.5"
  }
 },
 "nbformat": 4,
 "nbformat_minor": 5
}
