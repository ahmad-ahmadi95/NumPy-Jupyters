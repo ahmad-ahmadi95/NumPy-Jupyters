{
 "cells": [
  {
   "cell_type": "markdown",
   "id": "e3b795c6",
   "metadata": {},
   "source": [
    "## NumPy Exercises\n",
    "\n",
    "🔸 In this jupyter notebook we'll provied you **41** exercises in **NumPy** library.\n",
    "\n",
    "🔸 These exercises are directly taken from **quick introduction to NumPy notebook**.\n",
    "\n",
    "👀 If you get stuck, try searching for question in the following format: `how to do SOMETHING with numpy` and **SOMETHING** is the function you want to use in NumPy.\n",
    "\n",
    "🤝🏼 This jupyter notebook is designed by [Ahmad Ahmadi](https://www.linkedin.com/in/ahmad-ahmadi95/).\n",
    "\n",
    "---"
   ]
  },
  {
   "cell_type": "markdown",
   "id": "b936d8ef",
   "metadata": {},
   "source": [
    "🔸 **Q1.** Import `NumPy` as its short name `np`."
   ]
  },
  {
   "cell_type": "markdown",
   "id": "5521088c",
   "metadata": {},
   "source": [
    "🔹 **Answer**"
   ]
  },
  {
   "cell_type": "code",
   "execution_count": 1,
   "id": "c40c5a04",
   "metadata": {},
   "outputs": [],
   "source": [
    "import numpy as np"
   ]
  },
  {
   "cell_type": "markdown",
   "id": "d52d5c69",
   "metadata": {},
   "source": [
    "🔸 **Q2.** Create `one-dimensional` NumPy array using `np.array( )` function."
   ]
  },
  {
   "cell_type": "markdown",
   "id": "ccee7d8b",
   "metadata": {},
   "source": [
    "🔹 **Answer**"
   ]
  },
  {
   "cell_type": "code",
   "execution_count": 2,
   "id": "454a902b",
   "metadata": {},
   "outputs": [],
   "source": [
    "one_dim_array = np.array([1, 2, 3, 4, 5])"
   ]
  },
  {
   "cell_type": "code",
   "execution_count": 3,
   "id": "2ad5edb1",
   "metadata": {},
   "outputs": [
    {
     "data": {
      "text/plain": [
       "array([1, 2, 3, 4, 5])"
      ]
     },
     "execution_count": 3,
     "metadata": {},
     "output_type": "execute_result"
    }
   ],
   "source": [
    "one_dim_array"
   ]
  },
  {
   "cell_type": "markdown",
   "id": "3adbd9bf",
   "metadata": {},
   "source": [
    "🔸 **Q3.** Create `two-dimensional` NumPy array using `np.array( )` function."
   ]
  },
  {
   "cell_type": "markdown",
   "id": "688fb4b4",
   "metadata": {},
   "source": [
    "🔹 **Answer**"
   ]
  },
  {
   "cell_type": "code",
   "execution_count": 4,
   "id": "c7fa31b5",
   "metadata": {},
   "outputs": [],
   "source": [
    "two_dim_array = np.array([[1.0, 2.0, 3.0],\n",
    "                          [4.0, 5.0, 6.0]])"
   ]
  },
  {
   "cell_type": "code",
   "execution_count": 5,
   "id": "e2e7afd1",
   "metadata": {},
   "outputs": [
    {
     "data": {
      "text/plain": [
       "array([[1., 2., 3.],\n",
       "       [4., 5., 6.]])"
      ]
     },
     "execution_count": 5,
     "metadata": {},
     "output_type": "execute_result"
    }
   ],
   "source": [
    "two_dim_array"
   ]
  },
  {
   "cell_type": "markdown",
   "id": "7ba2427f",
   "metadata": {},
   "source": [
    "🔸 **Q4.** Create `three-dimensional` NumPy array using `np.array( )` function."
   ]
  },
  {
   "cell_type": "markdown",
   "id": "9048dc34",
   "metadata": {},
   "source": [
    "🔹 **Answer**"
   ]
  },
  {
   "cell_type": "code",
   "execution_count": 6,
   "id": "a26b1b7f",
   "metadata": {},
   "outputs": [],
   "source": [
    "three_dim_array = np.array([[[1, 2],\n",
    "                            [3, 4]],\n",
    "                            [[5, 6],\n",
    "                            [7, 8]]])"
   ]
  },
  {
   "cell_type": "code",
   "execution_count": 7,
   "id": "1a66c42a",
   "metadata": {},
   "outputs": [
    {
     "data": {
      "text/plain": [
       "array([[[1, 2],\n",
       "        [3, 4]],\n",
       "\n",
       "       [[5, 6],\n",
       "        [7, 8]]])"
      ]
     },
     "execution_count": 7,
     "metadata": {},
     "output_type": "execute_result"
    }
   ],
   "source": [
    "three_dim_array"
   ]
  },
  {
   "cell_type": "markdown",
   "id": "a5a3320c",
   "metadata": {},
   "source": [
    "🙋🏽‍♂️ We've created **three different arrays**; `one_dim_array`, `two_dim_array`, `three_dim_array`.\n",
    "\n",
    "🔸 **Q5.** Find the **shape**, **number of dimensions**, **data type**, **size** and **type** of each array."
   ]
  },
  {
   "cell_type": "markdown",
   "id": "5a7440cd",
   "metadata": {},
   "source": [
    "🔹 **Answer**"
   ]
  },
  {
   "cell_type": "code",
   "execution_count": 8,
   "id": "d59a014f",
   "metadata": {},
   "outputs": [
    {
     "name": "stdout",
     "output_type": "stream",
     "text": [
      "Shape of one_dim_array: (5,)\n",
      "Shape of two_dim_array: (2, 3)\n",
      "Shape of three_dim_array: (2, 2, 2)\n",
      "------\n",
      "ndim of one_dim_array: 1\n",
      "ndim of two_dim_array: 2\n",
      "ndim of three_dim_array: 3\n",
      "------\n",
      "data types of one_dim_array: int64\n",
      "data types of two_dim_array: float64\n",
      "data types of three_dim_array: int64\n",
      "------\n",
      "size of one_dim_array: 5\n",
      "size of two_dim_array: 6\n",
      "size of three_dim_array: 8\n",
      "------\n",
      "type of one_dim_array: <class 'numpy.ndarray'>\n",
      "type of two_dim_array: <class 'numpy.ndarray'>\n",
      "type of three_dim-array: <class 'numpy.ndarray'>\n"
     ]
    }
   ],
   "source": [
    "print(f\"Shape of one_dim_array: {one_dim_array.shape}\")\n",
    "print(f\"Shape of two_dim_array: {two_dim_array.shape}\")\n",
    "print(f\"Shape of three_dim_array: {three_dim_array.shape}\")\n",
    "print('------')\n",
    "print(f\"ndim of one_dim_array: {one_dim_array.ndim}\")\n",
    "print(f\"ndim of two_dim_array: {two_dim_array.ndim}\")\n",
    "print(f\"ndim of three_dim_array: {three_dim_array.ndim}\")\n",
    "print(f\"------\")\n",
    "print(f\"data types of one_dim_array: {one_dim_array.dtype}\")\n",
    "print(f\"data types of two_dim_array: {two_dim_array.dtype}\")\n",
    "print(f\"data types of three_dim_array: {three_dim_array.dtype}\")\n",
    "print(f\"------\")\n",
    "print(f\"size of one_dim_array: {one_dim_array.size}\")\n",
    "print(f\"size of two_dim_array: {two_dim_array.size}\")\n",
    "print(f\"size of three_dim_array: {three_dim_array.size}\")\n",
    "print(f\"------\")\n",
    "print(f\"type of one_dim_array: {type(one_dim_array)}\")\n",
    "print(f\"type of two_dim_array: {type(two_dim_array)}\")\n",
    "print(f\"type of three_dim-array: {type(three_dim_array)}\")"
   ]
  },
  {
   "cell_type": "markdown",
   "id": "8cfeb9f0",
   "metadata": {},
   "source": [
    "🔸 **Q6.** Import `Pandas` and create a **DataFrame** out of `two_dim_array` you've created."
   ]
  },
  {
   "cell_type": "markdown",
   "id": "8316c5ed",
   "metadata": {},
   "source": [
    "🔹 **Answer** "
   ]
  },
  {
   "cell_type": "code",
   "execution_count": 9,
   "id": "94890649",
   "metadata": {},
   "outputs": [],
   "source": [
    "import pandas as pd"
   ]
  },
  {
   "cell_type": "code",
   "execution_count": 10,
   "id": "f60992c3",
   "metadata": {},
   "outputs": [],
   "source": [
    "my_df = pd.DataFrame(data=two_dim_array)"
   ]
  },
  {
   "cell_type": "code",
   "execution_count": 11,
   "id": "3ba78175",
   "metadata": {},
   "outputs": [
    {
     "data": {
      "text/html": [
       "<div>\n",
       "<style scoped>\n",
       "    .dataframe tbody tr th:only-of-type {\n",
       "        vertical-align: middle;\n",
       "    }\n",
       "\n",
       "    .dataframe tbody tr th {\n",
       "        vertical-align: top;\n",
       "    }\n",
       "\n",
       "    .dataframe thead th {\n",
       "        text-align: right;\n",
       "    }\n",
       "</style>\n",
       "<table border=\"1\" class=\"dataframe\">\n",
       "  <thead>\n",
       "    <tr style=\"text-align: right;\">\n",
       "      <th></th>\n",
       "      <th>0</th>\n",
       "      <th>1</th>\n",
       "      <th>2</th>\n",
       "    </tr>\n",
       "  </thead>\n",
       "  <tbody>\n",
       "    <tr>\n",
       "      <th>0</th>\n",
       "      <td>1.0</td>\n",
       "      <td>2.0</td>\n",
       "      <td>3.0</td>\n",
       "    </tr>\n",
       "    <tr>\n",
       "      <th>1</th>\n",
       "      <td>4.0</td>\n",
       "      <td>5.0</td>\n",
       "      <td>6.0</td>\n",
       "    </tr>\n",
       "  </tbody>\n",
       "</table>\n",
       "</div>"
      ],
      "text/plain": [
       "     0    1    2\n",
       "0  1.0  2.0  3.0\n",
       "1  4.0  5.0  6.0"
      ]
     },
     "execution_count": 11,
     "metadata": {},
     "output_type": "execute_result"
    }
   ],
   "source": [
    "my_df"
   ]
  },
  {
   "cell_type": "markdown",
   "id": "dbeaf1b3",
   "metadata": {},
   "source": [
    "🔸 **Q7.** Create an array of shape **(10, 2)** with only **ones**."
   ]
  },
  {
   "cell_type": "markdown",
   "id": "db0236a9",
   "metadata": {},
   "source": [
    "🔹 **Answer**"
   ]
  },
  {
   "cell_type": "code",
   "execution_count": 12,
   "id": "71c98641",
   "metadata": {},
   "outputs": [],
   "source": [
    "ones = np.ones(shape=(10, 2))"
   ]
  },
  {
   "cell_type": "code",
   "execution_count": 13,
   "id": "b5c9d7d8",
   "metadata": {},
   "outputs": [
    {
     "data": {
      "text/plain": [
       "array([[1., 1.],\n",
       "       [1., 1.],\n",
       "       [1., 1.],\n",
       "       [1., 1.],\n",
       "       [1., 1.],\n",
       "       [1., 1.],\n",
       "       [1., 1.],\n",
       "       [1., 1.],\n",
       "       [1., 1.],\n",
       "       [1., 1.]])"
      ]
     },
     "execution_count": 13,
     "metadata": {},
     "output_type": "execute_result"
    }
   ],
   "source": [
    "ones"
   ]
  },
  {
   "cell_type": "markdown",
   "id": "801efac6",
   "metadata": {},
   "source": [
    "🔸 **Q8.** Create an array of shape **(7, 2, 3)** of only **zeros**."
   ]
  },
  {
   "cell_type": "markdown",
   "id": "f6a023d3",
   "metadata": {},
   "source": [
    "🔹 **Answer**"
   ]
  },
  {
   "cell_type": "code",
   "execution_count": 14,
   "id": "2e2dc637",
   "metadata": {},
   "outputs": [],
   "source": [
    "zeros = np.zeros(shape=(7, 2, 3))"
   ]
  },
  {
   "cell_type": "code",
   "execution_count": 15,
   "id": "137d394a",
   "metadata": {},
   "outputs": [
    {
     "data": {
      "text/plain": [
       "array([[[0., 0., 0.],\n",
       "        [0., 0., 0.]],\n",
       "\n",
       "       [[0., 0., 0.],\n",
       "        [0., 0., 0.]],\n",
       "\n",
       "       [[0., 0., 0.],\n",
       "        [0., 0., 0.]],\n",
       "\n",
       "       [[0., 0., 0.],\n",
       "        [0., 0., 0.]],\n",
       "\n",
       "       [[0., 0., 0.],\n",
       "        [0., 0., 0.]],\n",
       "\n",
       "       [[0., 0., 0.],\n",
       "        [0., 0., 0.]],\n",
       "\n",
       "       [[0., 0., 0.],\n",
       "        [0., 0., 0.]]])"
      ]
     },
     "execution_count": 15,
     "metadata": {},
     "output_type": "execute_result"
    }
   ],
   "source": [
    "zeros"
   ]
  },
  {
   "cell_type": "markdown",
   "id": "4129a6e0",
   "metadata": {},
   "source": [
    "🔸 **Q9.** Create an array within a range of **0** and **100** with **step 3**."
   ]
  },
  {
   "cell_type": "markdown",
   "id": "9a6f10d9",
   "metadata": {},
   "source": [
    "🔹 **Answer**"
   ]
  },
  {
   "cell_type": "code",
   "execution_count": 16,
   "id": "fc92c188",
   "metadata": {},
   "outputs": [],
   "source": [
    "my_array1 = np.arange(0, 100, 3)"
   ]
  },
  {
   "cell_type": "code",
   "execution_count": 17,
   "id": "59877788",
   "metadata": {},
   "outputs": [
    {
     "data": {
      "text/plain": [
       "array([ 0,  3,  6,  9, 12, 15, 18, 21, 24, 27, 30, 33, 36, 39, 42, 45, 48,\n",
       "       51, 54, 57, 60, 63, 66, 69, 72, 75, 78, 81, 84, 87, 90, 93, 96, 99])"
      ]
     },
     "execution_count": 17,
     "metadata": {},
     "output_type": "execute_result"
    }
   ],
   "source": [
    "my_array1"
   ]
  },
  {
   "cell_type": "markdown",
   "id": "a661d80c",
   "metadata": {},
   "source": [
    "🔸 **Q10.** Create an array with **20** evenly spaced numbers between **1** and **100**."
   ]
  },
  {
   "cell_type": "markdown",
   "id": "2c7801de",
   "metadata": {},
   "source": [
    "🔹 **Answer**"
   ]
  },
  {
   "cell_type": "code",
   "execution_count": 18,
   "id": "a8deb6ca",
   "metadata": {},
   "outputs": [],
   "source": [
    "my_array2 = np.linspace(start=1, stop=100, num=20)"
   ]
  },
  {
   "cell_type": "code",
   "execution_count": 19,
   "id": "638daee4",
   "metadata": {},
   "outputs": [
    {
     "data": {
      "text/plain": [
       "array([  1.        ,   6.21052632,  11.42105263,  16.63157895,\n",
       "        21.84210526,  27.05263158,  32.26315789,  37.47368421,\n",
       "        42.68421053,  47.89473684,  53.10526316,  58.31578947,\n",
       "        63.52631579,  68.73684211,  73.94736842,  79.15789474,\n",
       "        84.36842105,  89.57894737,  94.78947368, 100.        ])"
      ]
     },
     "execution_count": 19,
     "metadata": {},
     "output_type": "execute_result"
    }
   ],
   "source": [
    "my_array2"
   ]
  },
  {
   "cell_type": "markdown",
   "id": "a0dc60e6",
   "metadata": {},
   "source": [
    "🔸**Q11.** Create a **random** array with numbers between **0** and **10** of size **(7, 2)**."
   ]
  },
  {
   "cell_type": "markdown",
   "id": "ee03ea7d",
   "metadata": {},
   "source": [
    "🔹 **Answer**"
   ]
  },
  {
   "cell_type": "code",
   "execution_count": 20,
   "id": "b18b5ec7",
   "metadata": {},
   "outputs": [],
   "source": [
    "random_array1 = np.random.randint(low=0, high=10, size=(7, 2))"
   ]
  },
  {
   "cell_type": "code",
   "execution_count": 21,
   "id": "24d4529d",
   "metadata": {},
   "outputs": [
    {
     "data": {
      "text/plain": [
       "array([[0, 8],\n",
       "       [6, 4],\n",
       "       [8, 8],\n",
       "       [0, 2],\n",
       "       [4, 2],\n",
       "       [2, 4],\n",
       "       [6, 1]], dtype=int32)"
      ]
     },
     "execution_count": 21,
     "metadata": {},
     "output_type": "execute_result"
    }
   ],
   "source": [
    "random_array1"
   ]
  },
  {
   "cell_type": "markdown",
   "id": "ab64c70e",
   "metadata": {},
   "source": [
    "🔸**Q12.** Create a **random** array of **floats** between **0** and **1** of shape **(3, 5)**."
   ]
  },
  {
   "cell_type": "markdown",
   "id": "233af912",
   "metadata": {},
   "source": [
    "🔹**Answer**"
   ]
  },
  {
   "cell_type": "code",
   "execution_count": 22,
   "id": "c6755bc1",
   "metadata": {},
   "outputs": [],
   "source": [
    "random_array2 = np.random.random(size=(3, 5))"
   ]
  },
  {
   "cell_type": "code",
   "execution_count": 23,
   "id": "0bed541c",
   "metadata": {},
   "outputs": [
    {
     "data": {
      "text/plain": [
       "array([[0.22309141, 0.30772857, 0.17281966, 0.93049652, 0.91608744],\n",
       "       [0.64540696, 0.83609508, 0.30715255, 0.92084592, 0.31689135],\n",
       "       [0.64110941, 0.73672447, 0.28828802, 0.59015186, 0.5359996 ]])"
      ]
     },
     "execution_count": 23,
     "metadata": {},
     "output_type": "execute_result"
    }
   ],
   "source": [
    "random_array2"
   ]
  },
  {
   "cell_type": "markdown",
   "id": "d2a0cf84",
   "metadata": {},
   "source": [
    "---\n",
    "\n",
    "💡 Set the **random seed** to **7**.\n",
    "\n",
    "---"
   ]
  },
  {
   "cell_type": "markdown",
   "id": "1b4cb8b7",
   "metadata": {},
   "source": [
    "🔸 **Q13.** Create a **random** array of numbers between **0** & **10** of **size (4, 6)**"
   ]
  },
  {
   "cell_type": "markdown",
   "id": "8aeaff87",
   "metadata": {},
   "source": [
    "🔹 **Answer**"
   ]
  },
  {
   "cell_type": "code",
   "execution_count": 24,
   "id": "2fa6b377",
   "metadata": {},
   "outputs": [],
   "source": [
    "np.random.seed(seed=42)\n",
    "random_array3 = np.random.randint(low=0, high=10, size=(4, 6))"
   ]
  },
  {
   "cell_type": "code",
   "execution_count": 25,
   "id": "3e4ad3d4",
   "metadata": {},
   "outputs": [
    {
     "data": {
      "text/plain": [
       "array([[6, 3, 7, 4, 6, 9],\n",
       "       [2, 6, 7, 4, 3, 7],\n",
       "       [7, 2, 5, 4, 1, 7],\n",
       "       [5, 1, 4, 0, 9, 5]], dtype=int32)"
      ]
     },
     "execution_count": 25,
     "metadata": {},
     "output_type": "execute_result"
    }
   ],
   "source": [
    "random_array3"
   ]
  },
  {
   "cell_type": "markdown",
   "id": "2729f879",
   "metadata": {},
   "source": [
    "🔸 **Q14.** Create a random of numbers between **1** & **10** of **size (3, 7)** then save it to a variable (for example `random_array4`).\n",
    "\n",
    "🔸 Finally, find **the number of unique numbers** within that array."
   ]
  },
  {
   "cell_type": "markdown",
   "id": "e71b28c1",
   "metadata": {},
   "source": [
    "🔹**Answer**"
   ]
  },
  {
   "cell_type": "code",
   "execution_count": 26,
   "id": "7c93365e",
   "metadata": {},
   "outputs": [
    {
     "name": "stdout",
     "output_type": "stream",
     "text": [
      "The unique numbers in random_array4 is [1 2 3 4 5 7 9]\n"
     ]
    }
   ],
   "source": [
    "random_array4 = np.random.randint(low=1, high=10, size=(3, 7))\n",
    "print(f\"The unique numbers in random_array4 is {np.unique(random_array4)}\")"
   ]
  },
  {
   "cell_type": "code",
   "execution_count": 27,
   "id": "66f61bf8",
   "metadata": {},
   "outputs": [
    {
     "data": {
      "text/plain": [
       "array([[9, 1, 3, 7, 4, 9, 3],\n",
       "       [5, 3, 7, 5, 9, 7, 2],\n",
       "       [4, 9, 2, 9, 5, 2, 4]], dtype=int32)"
      ]
     },
     "execution_count": 27,
     "metadata": {},
     "output_type": "execute_result"
    }
   ],
   "source": [
    "random_array4"
   ]
  },
  {
   "cell_type": "markdown",
   "id": "30ffbc94",
   "metadata": {},
   "source": [
    "🔸 **Q15.** Find the value at index of **0** of `random_array4` you've just created."
   ]
  },
  {
   "cell_type": "markdown",
   "id": "825679fe",
   "metadata": {},
   "source": [
    "🔹 **Answer**"
   ]
  },
  {
   "cell_type": "code",
   "execution_count": 28,
   "id": "e3ed9c04",
   "metadata": {},
   "outputs": [
    {
     "data": {
      "text/plain": [
       "array([9, 1, 3, 7, 4, 9, 3], dtype=int32)"
      ]
     },
     "execution_count": 28,
     "metadata": {},
     "output_type": "execute_result"
    }
   ],
   "source": [
    "random_array4[0]"
   ]
  },
  {
   "cell_type": "markdown",
   "id": "b8e5fa47",
   "metadata": {},
   "source": [
    "🔸 **Q16.** Get the **first 2 rows** of `random_array4` you've just created."
   ]
  },
  {
   "cell_type": "markdown",
   "id": "e677b90e",
   "metadata": {},
   "source": [
    "🔹 **Answer**"
   ]
  },
  {
   "cell_type": "code",
   "execution_count": 29,
   "id": "317c00af",
   "metadata": {},
   "outputs": [
    {
     "data": {
      "text/plain": [
       "array([[9, 1, 3, 7, 4, 9, 3],\n",
       "       [5, 3, 7, 5, 9, 7, 2]], dtype=int32)"
      ]
     },
     "execution_count": 29,
     "metadata": {},
     "output_type": "execute_result"
    }
   ],
   "source": [
    "random_array4[:2]"
   ]
  },
  {
   "cell_type": "markdown",
   "id": "73f806fa",
   "metadata": {},
   "source": [
    "🔸 **Q17.** Get the **first 2 values** of the **first 2 rows** of the `random_array4`."
   ]
  },
  {
   "cell_type": "markdown",
   "id": "68286cf3",
   "metadata": {},
   "source": [
    "🔹 **Answer**"
   ]
  },
  {
   "cell_type": "code",
   "execution_count": 30,
   "id": "a46dc6c3",
   "metadata": {},
   "outputs": [
    {
     "data": {
      "text/plain": [
       "array([[9, 1],\n",
       "       [5, 3]], dtype=int32)"
      ]
     },
     "execution_count": 30,
     "metadata": {},
     "output_type": "execute_result"
    }
   ],
   "source": [
    "random_array4[:2, :2]"
   ]
  },
  {
   "cell_type": "markdown",
   "id": "eb91b119",
   "metadata": {},
   "source": [
    "🔸 **Q18.** Create a **random** array of numbers between **0** and **10**, then create an array of **ones**.\n",
    "\n",
    "🔸 The sizes of **both arrays** is **(4, 6)**. \n",
    "\n",
    "🔸 Save them into variables (`random_array5` and `ones`) "
   ]
  },
  {
   "cell_type": "markdown",
   "id": "c8e51bbb",
   "metadata": {},
   "source": [
    "🔹**Answer**"
   ]
  },
  {
   "cell_type": "code",
   "execution_count": 31,
   "id": "4361b356",
   "metadata": {},
   "outputs": [],
   "source": [
    "random_array5 = np.random.randint(low=0, high=10, size=(4, 6))\n",
    "ones = np.ones(shape=(4, 6))"
   ]
  },
  {
   "cell_type": "code",
   "execution_count": 32,
   "id": "4ccf617b",
   "metadata": {},
   "outputs": [
    {
     "data": {
      "text/plain": [
       "array([[6, 7, 2, 0, 3, 1],\n",
       "       [7, 3, 1, 5, 5, 9],\n",
       "       [3, 5, 1, 9, 1, 9],\n",
       "       [3, 7, 6, 8, 7, 4]], dtype=int32)"
      ]
     },
     "execution_count": 32,
     "metadata": {},
     "output_type": "execute_result"
    }
   ],
   "source": [
    "random_array5"
   ]
  },
  {
   "cell_type": "code",
   "execution_count": 33,
   "id": "3d579fcd",
   "metadata": {},
   "outputs": [
    {
     "data": {
      "text/plain": [
       "array([[1., 1., 1., 1., 1., 1.],\n",
       "       [1., 1., 1., 1., 1., 1.],\n",
       "       [1., 1., 1., 1., 1., 1.],\n",
       "       [1., 1., 1., 1., 1., 1.]])"
      ]
     },
     "execution_count": 33,
     "metadata": {},
     "output_type": "execute_result"
    }
   ],
   "source": [
    "ones"
   ]
  },
  {
   "cell_type": "markdown",
   "id": "b9dcea14",
   "metadata": {},
   "source": [
    "🔸 **Q19.** Add `random_array5` and `ones` together."
   ]
  },
  {
   "cell_type": "code",
   "execution_count": 34,
   "id": "71b94850",
   "metadata": {},
   "outputs": [
    {
     "data": {
      "text/plain": [
       "array([[ 7.,  8.,  3.,  1.,  4.,  2.],\n",
       "       [ 8.,  4.,  2.,  6.,  6., 10.],\n",
       "       [ 4.,  6.,  2., 10.,  2., 10.],\n",
       "       [ 4.,  8.,  7.,  9.,  8.,  5.]])"
      ]
     },
     "execution_count": 34,
     "metadata": {},
     "output_type": "execute_result"
    }
   ],
   "source": [
    "random_array5 + ones"
   ]
  },
  {
   "cell_type": "markdown",
   "id": "133b676d",
   "metadata": {},
   "source": [
    "🔸 **Q20.** Create another array of **ones** (shape of **(6, 4)**) and try to **add** this `new_ones` array to `random_array5`."
   ]
  },
  {
   "cell_type": "code",
   "execution_count": 35,
   "id": "62c23408",
   "metadata": {},
   "outputs": [
    {
     "ename": "ValueError",
     "evalue": "operands could not be broadcast together with shapes (4,6) (6,4) ",
     "output_type": "error",
     "traceback": [
      "\u001b[1;31m---------------------------------------------------------------------------\u001b[0m",
      "\u001b[1;31mValueError\u001b[0m                                Traceback (most recent call last)",
      "Cell \u001b[1;32mIn[35], line 2\u001b[0m\n\u001b[0;32m      1\u001b[0m new_ones \u001b[38;5;241m=\u001b[39m np\u001b[38;5;241m.\u001b[39mones(shape\u001b[38;5;241m=\u001b[39m(\u001b[38;5;241m6\u001b[39m, \u001b[38;5;241m4\u001b[39m))\n\u001b[1;32m----> 2\u001b[0m \u001b[43mrandom_array5\u001b[49m\u001b[43m \u001b[49m\u001b[38;5;241;43m+\u001b[39;49m\u001b[43m \u001b[49m\u001b[43mnew_ones\u001b[49m\n",
      "\u001b[1;31mValueError\u001b[0m: operands could not be broadcast together with shapes (4,6) (6,4) "
     ]
    }
   ],
   "source": [
    "new_ones = np.ones(shape=(6, 4))\n",
    "random_array5 + new_ones"
   ]
  },
  {
   "cell_type": "markdown",
   "id": "72ec2e2f",
   "metadata": {},
   "source": [
    "---\n",
    "\n",
    "👀 When you run the previous cell, It produces the **ValueError**.\n",
    "\n",
    "---"
   ]
  },
  {
   "cell_type": "markdown",
   "id": "b7b8a24d",
   "metadata": {},
   "source": [
    "🔸 **Q21.** Subtract `ones` array from `random_array5` array."
   ]
  },
  {
   "cell_type": "markdown",
   "id": "86644caa",
   "metadata": {},
   "source": [
    "🔹 **Answer**"
   ]
  },
  {
   "cell_type": "code",
   "execution_count": 36,
   "id": "f3058bce",
   "metadata": {},
   "outputs": [
    {
     "data": {
      "text/plain": [
       "array([[ 5.,  6.,  1., -1.,  2.,  0.],\n",
       "       [ 6.,  2.,  0.,  4.,  4.,  8.],\n",
       "       [ 2.,  4.,  0.,  8.,  0.,  8.],\n",
       "       [ 2.,  6.,  5.,  7.,  6.,  3.]])"
      ]
     },
     "execution_count": 36,
     "metadata": {},
     "output_type": "execute_result"
    }
   ],
   "source": [
    "random_array5 - ones"
   ]
  },
  {
   "cell_type": "markdown",
   "id": "5ce0210b",
   "metadata": {},
   "source": [
    "🔸 **Q22.** Multiply the `random_array5` by `ones` array."
   ]
  },
  {
   "cell_type": "markdown",
   "id": "8448b48b",
   "metadata": {},
   "source": [
    "🔹 **Answer** "
   ]
  },
  {
   "cell_type": "code",
   "execution_count": 37,
   "id": "93efc324",
   "metadata": {},
   "outputs": [
    {
     "data": {
      "text/plain": [
       "array([[6., 7., 2., 0., 3., 1.],\n",
       "       [7., 3., 1., 5., 5., 9.],\n",
       "       [3., 5., 1., 9., 1., 9.],\n",
       "       [3., 7., 6., 8., 7., 4.]])"
      ]
     },
     "execution_count": 37,
     "metadata": {},
     "output_type": "execute_result"
    }
   ],
   "source": [
    "# Method one -> using *\n",
    "random_array5 * ones"
   ]
  },
  {
   "cell_type": "code",
   "execution_count": 38,
   "id": "23103e11",
   "metadata": {},
   "outputs": [
    {
     "data": {
      "text/plain": [
       "array([[6., 7., 2., 0., 3., 1.],\n",
       "       [7., 3., 1., 5., 5., 9.],\n",
       "       [3., 5., 1., 9., 1., 9.],\n",
       "       [3., 7., 6., 8., 7., 4.]])"
      ]
     },
     "execution_count": 38,
     "metadata": {},
     "output_type": "execute_result"
    }
   ],
   "source": [
    "# Methods two -> using np.multiply()\n",
    "np.multiply(random_array5, ones)"
   ]
  },
  {
   "cell_type": "markdown",
   "id": "6d7b322d",
   "metadata": {},
   "source": [
    "🔸 **Q23.** Take `random_array5` to the power of **2**."
   ]
  },
  {
   "cell_type": "code",
   "execution_count": 39,
   "id": "480d5fbb",
   "metadata": {},
   "outputs": [
    {
     "data": {
      "text/plain": [
       "array([[36, 49,  4,  0,  9,  1],\n",
       "       [49,  9,  1, 25, 25, 81],\n",
       "       [ 9, 25,  1, 81,  1, 81],\n",
       "       [ 9, 49, 36, 64, 49, 16]], dtype=int32)"
      ]
     },
     "execution_count": 39,
     "metadata": {},
     "output_type": "execute_result"
    }
   ],
   "source": [
    "# Method one -> using **\n",
    "random_array5 ** 2"
   ]
  },
  {
   "cell_type": "code",
   "execution_count": 40,
   "id": "c5096162",
   "metadata": {},
   "outputs": [
    {
     "data": {
      "text/plain": [
       "array([[36, 49,  4,  0,  9,  1],\n",
       "       [49,  9,  1, 25, 25, 81],\n",
       "       [ 9, 25,  1, 81,  1, 81],\n",
       "       [ 9, 49, 36, 64, 49, 16]], dtype=int32)"
      ]
     },
     "execution_count": 40,
     "metadata": {},
     "output_type": "execute_result"
    }
   ],
   "source": [
    "# Method two -> using np.square()\n",
    "np.square(random_array5)"
   ]
  },
  {
   "cell_type": "markdown",
   "id": "8226506b",
   "metadata": {},
   "source": [
    "🔸 **Q24.** Calculate the **mean** of `random_array5`."
   ]
  },
  {
   "cell_type": "markdown",
   "id": "04df55b7",
   "metadata": {},
   "source": [
    "🔹 **Answer**"
   ]
  },
  {
   "cell_type": "code",
   "execution_count": 41,
   "id": "2c7da9c7",
   "metadata": {},
   "outputs": [
    {
     "data": {
      "text/plain": [
       "np.float64(4.666666666666667)"
      ]
     },
     "execution_count": 41,
     "metadata": {},
     "output_type": "execute_result"
    }
   ],
   "source": [
    "# Method one -> np.mean()\n",
    "np.mean(random_array5)"
   ]
  },
  {
   "cell_type": "code",
   "execution_count": 42,
   "id": "fcfce7f0",
   "metadata": {},
   "outputs": [
    {
     "data": {
      "text/plain": [
       "np.float64(4.666666666666667)"
      ]
     },
     "execution_count": 42,
     "metadata": {},
     "output_type": "execute_result"
    }
   ],
   "source": [
    "# Method two -> your_array.mean()\n",
    "random_array5.mean()"
   ]
  },
  {
   "cell_type": "markdown",
   "id": "bc1fb8f4",
   "metadata": {},
   "source": [
    "🔸 **Q25.** Calculate the **maximum** value of `random_array5`."
   ]
  },
  {
   "cell_type": "markdown",
   "id": "6e535c6f",
   "metadata": {},
   "source": [
    "🔹 **Answer**"
   ]
  },
  {
   "cell_type": "code",
   "execution_count": 43,
   "id": "111a6a0a",
   "metadata": {},
   "outputs": [
    {
     "data": {
      "text/plain": [
       "np.int32(9)"
      ]
     },
     "execution_count": 43,
     "metadata": {},
     "output_type": "execute_result"
    }
   ],
   "source": [
    "# Method one -> np.max()\n",
    "np.max(random_array5)"
   ]
  },
  {
   "cell_type": "code",
   "execution_count": 44,
   "id": "3632fa39",
   "metadata": {},
   "outputs": [
    {
     "data": {
      "text/plain": [
       "np.int32(9)"
      ]
     },
     "execution_count": 44,
     "metadata": {},
     "output_type": "execute_result"
    }
   ],
   "source": [
    "# Method two -> your_array.max()\n",
    "random_array5.max()"
   ]
  },
  {
   "cell_type": "markdown",
   "id": "d6f74c30",
   "metadata": {},
   "source": [
    "🔸 **Q26.** Calculate the **minimum** value of `random_array5`."
   ]
  },
  {
   "cell_type": "markdown",
   "id": "3f0446f6",
   "metadata": {},
   "source": [
    "🔹 **Answer**"
   ]
  },
  {
   "cell_type": "code",
   "execution_count": 45,
   "id": "d7688ff5",
   "metadata": {},
   "outputs": [
    {
     "data": {
      "text/plain": [
       "np.int32(0)"
      ]
     },
     "execution_count": 45,
     "metadata": {},
     "output_type": "execute_result"
    }
   ],
   "source": [
    "# Method one -> np.min()\n",
    "np.min(random_array5)"
   ]
  },
  {
   "cell_type": "code",
   "execution_count": 46,
   "id": "d9b521e3",
   "metadata": {},
   "outputs": [
    {
     "data": {
      "text/plain": [
       "np.int32(0)"
      ]
     },
     "execution_count": 46,
     "metadata": {},
     "output_type": "execute_result"
    }
   ],
   "source": [
    "# Method two -> your_array.min()\n",
    "random_array5.min()"
   ]
  },
  {
   "cell_type": "markdown",
   "id": "4aa77f63",
   "metadata": {},
   "source": [
    "🔸 **Q27.** Calculate the **standard deviation** of `random_array5`. "
   ]
  },
  {
   "cell_type": "markdown",
   "id": "ae594085",
   "metadata": {},
   "source": [
    "🔹 **Answer**"
   ]
  },
  {
   "cell_type": "code",
   "execution_count": 47,
   "id": "07861cc8",
   "metadata": {},
   "outputs": [
    {
     "data": {
      "text/plain": [
       "np.float64(2.7938424357067015)"
      ]
     },
     "execution_count": 47,
     "metadata": {},
     "output_type": "execute_result"
    }
   ],
   "source": [
    "# Method one -> np.std()\n",
    "np.std(random_array5)"
   ]
  },
  {
   "cell_type": "code",
   "execution_count": 48,
   "id": "9c1ea607",
   "metadata": {},
   "outputs": [
    {
     "data": {
      "text/plain": [
       "np.float64(2.7938424357067015)"
      ]
     },
     "execution_count": 48,
     "metadata": {},
     "output_type": "execute_result"
    }
   ],
   "source": [
    "# Method two -> your_array.std()\n",
    "random_array5.std()"
   ]
  },
  {
   "cell_type": "markdown",
   "id": "2fe6b03f",
   "metadata": {},
   "source": [
    "🔸 **Q28.** Find the **variance** of the `random_array5`."
   ]
  },
  {
   "cell_type": "markdown",
   "id": "0ca99e44",
   "metadata": {},
   "source": [
    "🔹 **Answer**"
   ]
  },
  {
   "cell_type": "code",
   "execution_count": 49,
   "id": "9188e67d",
   "metadata": {},
   "outputs": [
    {
     "data": {
      "text/plain": [
       "np.float64(7.8055555555555545)"
      ]
     },
     "execution_count": 49,
     "metadata": {},
     "output_type": "execute_result"
    }
   ],
   "source": [
    "# Method one -> np.var()\n",
    "np.var(random_array5)"
   ]
  },
  {
   "cell_type": "code",
   "execution_count": 50,
   "id": "abf0b65c",
   "metadata": {},
   "outputs": [
    {
     "data": {
      "text/plain": [
       "np.float64(7.8055555555555545)"
      ]
     },
     "execution_count": 50,
     "metadata": {},
     "output_type": "execute_result"
    }
   ],
   "source": [
    "# Method two -> your_array.var()\n",
    "random_array5.var()"
   ]
  },
  {
   "cell_type": "markdown",
   "id": "cf085dfa",
   "metadata": {},
   "source": [
    "🔸 **29.** Reshape the `random_array5` to **(3, 8, 1)**"
   ]
  },
  {
   "cell_type": "markdown",
   "id": "c28e39a7",
   "metadata": {},
   "source": [
    "🔹 **Answer**"
   ]
  },
  {
   "cell_type": "code",
   "execution_count": 51,
   "id": "49144b31",
   "metadata": {},
   "outputs": [
    {
     "data": {
      "text/plain": [
       "array([[[6],\n",
       "        [7],\n",
       "        [2],\n",
       "        [0],\n",
       "        [3],\n",
       "        [1],\n",
       "        [7],\n",
       "        [3]],\n",
       "\n",
       "       [[1],\n",
       "        [5],\n",
       "        [5],\n",
       "        [9],\n",
       "        [3],\n",
       "        [5],\n",
       "        [1],\n",
       "        [9]],\n",
       "\n",
       "       [[1],\n",
       "        [9],\n",
       "        [3],\n",
       "        [7],\n",
       "        [6],\n",
       "        [8],\n",
       "        [7],\n",
       "        [4]]], dtype=int32)"
      ]
     },
     "execution_count": 51,
     "metadata": {},
     "output_type": "execute_result"
    }
   ],
   "source": [
    "# Method one -> np.reshape()\n",
    "np.reshape(random_array5, newshape=(3, 8, 1))"
   ]
  },
  {
   "cell_type": "code",
   "execution_count": 52,
   "id": "66599636",
   "metadata": {},
   "outputs": [
    {
     "data": {
      "text/plain": [
       "array([[[6],\n",
       "        [7],\n",
       "        [2],\n",
       "        [0],\n",
       "        [3],\n",
       "        [1],\n",
       "        [7],\n",
       "        [3]],\n",
       "\n",
       "       [[1],\n",
       "        [5],\n",
       "        [5],\n",
       "        [9],\n",
       "        [3],\n",
       "        [5],\n",
       "        [1],\n",
       "        [9]],\n",
       "\n",
       "       [[1],\n",
       "        [9],\n",
       "        [3],\n",
       "        [7],\n",
       "        [6],\n",
       "        [8],\n",
       "        [7],\n",
       "        [4]]], dtype=int32)"
      ]
     },
     "execution_count": 52,
     "metadata": {},
     "output_type": "execute_result"
    }
   ],
   "source": [
    "# Method two -> your_array.reshape()\n",
    "random_array5.reshape((3, 8, 1))"
   ]
  },
  {
   "cell_type": "markdown",
   "id": "50d4a4f9",
   "metadata": {},
   "source": [
    "🔸 **Q30.** Transpose `random_array5`."
   ]
  },
  {
   "cell_type": "code",
   "execution_count": 53,
   "id": "933eed18",
   "metadata": {},
   "outputs": [
    {
     "data": {
      "text/plain": [
       "array([[6, 7, 3, 3],\n",
       "       [7, 3, 5, 7],\n",
       "       [2, 1, 1, 6],\n",
       "       [0, 5, 9, 8],\n",
       "       [3, 5, 1, 7],\n",
       "       [1, 9, 9, 4]], dtype=int32)"
      ]
     },
     "execution_count": 53,
     "metadata": {},
     "output_type": "execute_result"
    }
   ],
   "source": [
    "# Method one -> np.transpose()\n",
    "np.transpose(random_array5)"
   ]
  },
  {
   "cell_type": "code",
   "execution_count": 54,
   "id": "87e1d4cb",
   "metadata": {},
   "outputs": [
    {
     "data": {
      "text/plain": [
       "array([[6, 7, 3, 3],\n",
       "       [7, 3, 5, 7],\n",
       "       [2, 1, 1, 6],\n",
       "       [0, 5, 9, 8],\n",
       "       [3, 5, 1, 7],\n",
       "       [1, 9, 9, 4]], dtype=int32)"
      ]
     },
     "execution_count": 54,
     "metadata": {},
     "output_type": "execute_result"
    }
   ],
   "source": [
    "# Method two -> your_array.T\n",
    "random_array5.T"
   ]
  },
  {
   "cell_type": "markdown",
   "id": "ce64dd8e",
   "metadata": {},
   "source": [
    "🔸 **Q31.** Create two arrays of **random integers** between **0** to **10**. \n",
    "\n",
    "🔸 one of size **(2, 3)** and  the other of size **(4, 3)**"
   ]
  },
  {
   "cell_type": "markdown",
   "id": "32a14287",
   "metadata": {},
   "source": [
    "🔹 **Answer** "
   ]
  },
  {
   "cell_type": "code",
   "execution_count": 55,
   "id": "936eb741",
   "metadata": {},
   "outputs": [],
   "source": [
    "random_int1 = np.random.randint(low=0, high=10, size=(2, 3))\n",
    "random_int2 = np.random.randint(low=0, high=10, size=(4, 3))"
   ]
  },
  {
   "cell_type": "code",
   "execution_count": 56,
   "id": "646c44f1",
   "metadata": {},
   "outputs": [
    {
     "data": {
      "text/plain": [
       "array([[1, 4, 7],\n",
       "       [9, 8, 8]], dtype=int32)"
      ]
     },
     "execution_count": 56,
     "metadata": {},
     "output_type": "execute_result"
    }
   ],
   "source": [
    "random_int1"
   ]
  },
  {
   "cell_type": "code",
   "execution_count": 57,
   "id": "52f54d90",
   "metadata": {},
   "outputs": [
    {
     "data": {
      "text/plain": [
       "array([[0, 8, 6],\n",
       "       [8, 7, 0],\n",
       "       [7, 7, 2],\n",
       "       [0, 7, 2]], dtype=int32)"
      ]
     },
     "execution_count": 57,
     "metadata": {},
     "output_type": "execute_result"
    }
   ],
   "source": [
    "random_int2"
   ]
  },
  {
   "cell_type": "markdown",
   "id": "9d072d49",
   "metadata": {},
   "source": [
    "🔸 **Q32.** Perform a **dot product** on the `random_int1` and `random_int2`. "
   ]
  },
  {
   "cell_type": "markdown",
   "id": "c0ed4a74",
   "metadata": {},
   "source": [
    "🔹 **Answer** "
   ]
  },
  {
   "cell_type": "code",
   "execution_count": 58,
   "id": "7e2129d9",
   "metadata": {},
   "outputs": [
    {
     "ename": "ValueError",
     "evalue": "shapes (2,3) and (4,3) not aligned: 3 (dim 1) != 4 (dim 0)",
     "output_type": "error",
     "traceback": [
      "\u001b[1;31m---------------------------------------------------------------------------\u001b[0m",
      "\u001b[1;31mValueError\u001b[0m                                Traceback (most recent call last)",
      "Cell \u001b[1;32mIn[58], line 1\u001b[0m\n\u001b[1;32m----> 1\u001b[0m \u001b[43mnp\u001b[49m\u001b[38;5;241;43m.\u001b[39;49m\u001b[43mdot\u001b[49m\u001b[43m(\u001b[49m\u001b[43mrandom_int1\u001b[49m\u001b[43m,\u001b[49m\u001b[43m \u001b[49m\u001b[43mrandom_int2\u001b[49m\u001b[43m)\u001b[49m\n",
      "\u001b[1;31mValueError\u001b[0m: shapes (2,3) and (4,3) not aligned: 3 (dim 1) != 4 (dim 0)"
     ]
    }
   ],
   "source": [
    "np.dot(random_int1, random_int2)"
   ]
  },
  {
   "cell_type": "markdown",
   "id": "c0643302",
   "metadata": {},
   "source": [
    "---\n",
    "\n",
    "👀 When you run the previous cell, It produces the **ValueError**. \n",
    "\n",
    "---"
   ]
  },
  {
   "cell_type": "markdown",
   "id": "41877b7c",
   "metadata": {},
   "source": [
    "🔸 **Q33.** Try fix the previous error using **transpose of one of the arrays**. "
   ]
  },
  {
   "cell_type": "markdown",
   "id": "80db2460",
   "metadata": {},
   "source": [
    "🔹 **Answer**"
   ]
  },
  {
   "cell_type": "code",
   "execution_count": 59,
   "id": "3fda62b7",
   "metadata": {},
   "outputs": [
    {
     "data": {
      "text/plain": [
       "array([[ 74,  36,  49,  42],\n",
       "       [112, 128, 135,  72]], dtype=int32)"
      ]
     },
     "execution_count": 59,
     "metadata": {},
     "output_type": "execute_result"
    }
   ],
   "source": [
    "np.dot(random_int1, random_int2.T)"
   ]
  },
  {
   "cell_type": "markdown",
   "id": "63344c0e",
   "metadata": {},
   "source": [
    "👀 Why this works now? \n",
    "\n",
    "🔗 Check out this [link]() to the **documentation of np.dot( )** as well as this [link](https://www.mathsisfun.com/algebra/vectors-dot-product.html) from **Math is fun**. "
   ]
  },
  {
   "cell_type": "markdown",
   "id": "087225a9",
   "metadata": {},
   "source": [
    "🔸 **Q34.** Create two arrays of **random integers** between **0** and **10** of the **same** size. \n",
    "\n",
    "🔸 Save them into different variables.\n",
    "\n",
    "🔸 Finally compare them using **>** operator."
   ]
  },
  {
   "cell_type": "markdown",
   "id": "6eea628c",
   "metadata": {},
   "source": [
    "🔹 **Answer**"
   ]
  },
  {
   "cell_type": "code",
   "execution_count": 60,
   "id": "7a53ab8a",
   "metadata": {},
   "outputs": [],
   "source": [
    "random_int1 = np.random.randint(low=0, high=10, size=(3, 5))\n",
    "random_int2 = np.random.randint(low=0, high=10, size=(3, 5))"
   ]
  },
  {
   "cell_type": "code",
   "execution_count": 61,
   "id": "b85ecad1",
   "metadata": {},
   "outputs": [
    {
     "data": {
      "text/plain": [
       "array([[2, 0, 4, 9, 6],\n",
       "       [9, 8, 6, 8, 7],\n",
       "       [1, 0, 6, 6, 7]], dtype=int32)"
      ]
     },
     "execution_count": 61,
     "metadata": {},
     "output_type": "execute_result"
    }
   ],
   "source": [
    "random_int1"
   ]
  },
  {
   "cell_type": "code",
   "execution_count": 62,
   "id": "ed595eff",
   "metadata": {},
   "outputs": [
    {
     "data": {
      "text/plain": [
       "array([[4, 2, 7, 5, 2],\n",
       "       [0, 2, 4, 2, 0],\n",
       "       [4, 9, 6, 6, 8]], dtype=int32)"
      ]
     },
     "execution_count": 62,
     "metadata": {},
     "output_type": "execute_result"
    }
   ],
   "source": [
    "random_int2"
   ]
  },
  {
   "cell_type": "code",
   "execution_count": 63,
   "id": "3f95beae",
   "metadata": {},
   "outputs": [
    {
     "data": {
      "text/plain": [
       "array([[False, False, False,  True,  True],\n",
       "       [ True,  True,  True,  True,  True],\n",
       "       [False, False, False, False, False]])"
      ]
     },
     "execution_count": 63,
     "metadata": {},
     "output_type": "execute_result"
    }
   ],
   "source": [
    "# Compare here\n",
    "random_int1 > random_int2"
   ]
  },
  {
   "cell_type": "markdown",
   "id": "71150b27",
   "metadata": {},
   "source": [
    "🔸 **Q35.** Compare the two previous arrays using **>=**. "
   ]
  },
  {
   "cell_type": "markdown",
   "id": "60aeb521",
   "metadata": {},
   "source": [
    "🔹 **Answer**"
   ]
  },
  {
   "cell_type": "code",
   "execution_count": 64,
   "id": "b6f046fa",
   "metadata": {},
   "outputs": [
    {
     "data": {
      "text/plain": [
       "array([[False, False, False,  True,  True],\n",
       "       [ True,  True,  True,  True,  True],\n",
       "       [False, False,  True,  True, False]])"
      ]
     },
     "execution_count": 64,
     "metadata": {},
     "output_type": "execute_result"
    }
   ],
   "source": [
    "random_int1 >= random_int2"
   ]
  },
  {
   "cell_type": "markdown",
   "id": "9ecb36b3",
   "metadata": {},
   "source": [
    "🔸 **Q36.** Find which elements of the **first** array are greater than **5**. "
   ]
  },
  {
   "cell_type": "markdown",
   "id": "2c95dd7a",
   "metadata": {},
   "source": [
    "🔹 **Answer**"
   ]
  },
  {
   "cell_type": "code",
   "execution_count": 65,
   "id": "58ccbb62",
   "metadata": {},
   "outputs": [
    {
     "data": {
      "text/plain": [
       "array([[False, False, False,  True,  True],\n",
       "       [ True,  True,  True,  True,  True],\n",
       "       [False, False,  True,  True,  True]])"
      ]
     },
     "execution_count": 65,
     "metadata": {},
     "output_type": "execute_result"
    }
   ],
   "source": [
    "random_int1 > 5"
   ]
  },
  {
   "cell_type": "markdown",
   "id": "21dd93e3",
   "metadata": {},
   "source": [
    "🔸 **Q37.** Which parts of each array are **equal**? "
   ]
  },
  {
   "cell_type": "markdown",
   "id": "8472a6f5",
   "metadata": {},
   "source": [
    "🔹 **Answer**"
   ]
  },
  {
   "cell_type": "code",
   "execution_count": 66,
   "id": "e89ff510",
   "metadata": {},
   "outputs": [
    {
     "data": {
      "text/plain": [
       "array([[False, False, False, False, False],\n",
       "       [False, False, False, False, False],\n",
       "       [False, False,  True,  True, False]])"
      ]
     },
     "execution_count": 66,
     "metadata": {},
     "output_type": "execute_result"
    }
   ],
   "source": [
    "random_int1 == random_int2"
   ]
  },
  {
   "cell_type": "markdown",
   "id": "f8bf6a61",
   "metadata": {},
   "source": [
    "🔸 **Q38.** Sort `random_int1` that you newly created."
   ]
  },
  {
   "cell_type": "markdown",
   "id": "d49a3fd5",
   "metadata": {},
   "source": [
    "🔹 **Answer**"
   ]
  },
  {
   "cell_type": "code",
   "execution_count": 67,
   "id": "d3d5bfa4",
   "metadata": {},
   "outputs": [],
   "source": [
    "random_int1.sort()"
   ]
  },
  {
   "cell_type": "code",
   "execution_count": 68,
   "id": "481c3165",
   "metadata": {},
   "outputs": [
    {
     "data": {
      "text/plain": [
       "array([[0, 2, 4, 6, 9],\n",
       "       [6, 7, 8, 8, 9],\n",
       "       [0, 1, 6, 6, 7]], dtype=int32)"
      ]
     },
     "execution_count": 68,
     "metadata": {},
     "output_type": "execute_result"
    }
   ],
   "source": [
    "random_int1"
   ]
  },
  {
   "cell_type": "markdown",
   "id": "72ee9f80",
   "metadata": {},
   "source": [
    "🔸 **Q39.** Sort the **indices** of `random_int1` that you newly created"
   ]
  },
  {
   "cell_type": "markdown",
   "id": "f6bf577a",
   "metadata": {},
   "source": [
    "🔹 **Answer**"
   ]
  },
  {
   "cell_type": "code",
   "execution_count": 69,
   "id": "3ef8142f",
   "metadata": {},
   "outputs": [
    {
     "data": {
      "text/plain": [
       "array([[0, 1, 2, 3, 4],\n",
       "       [0, 1, 2, 3, 4],\n",
       "       [0, 1, 2, 3, 4]])"
      ]
     },
     "execution_count": 69,
     "metadata": {},
     "output_type": "execute_result"
    }
   ],
   "source": [
    "random_int1.argsort()"
   ]
  },
  {
   "cell_type": "markdown",
   "id": "ec3cd1d0",
   "metadata": {},
   "source": [
    "🔸 **Q40.** Find the **index** of **maximum** value in `random_int2` array."
   ]
  },
  {
   "cell_type": "markdown",
   "id": "3e236f9c",
   "metadata": {},
   "source": [
    "🔹 **Answer**"
   ]
  },
  {
   "cell_type": "code",
   "execution_count": 70,
   "id": "df9830d1",
   "metadata": {},
   "outputs": [
    {
     "data": {
      "text/plain": [
       "np.int64(11)"
      ]
     },
     "execution_count": 70,
     "metadata": {},
     "output_type": "execute_result"
    }
   ],
   "source": [
    "np.argmax(random_int2)"
   ]
  },
  {
   "cell_type": "markdown",
   "id": "cb6107a3",
   "metadata": {},
   "source": [
    "🔸 **Q41.** Find the **index** of **minimum** value in `random_int2` array."
   ]
  },
  {
   "cell_type": "markdown",
   "id": "496b0ec0",
   "metadata": {},
   "source": [
    "🔹 **Answer** "
   ]
  },
  {
   "cell_type": "code",
   "execution_count": 71,
   "id": "6e65cd28",
   "metadata": {},
   "outputs": [
    {
     "data": {
      "text/plain": [
       "np.int64(0)"
      ]
     },
     "execution_count": 71,
     "metadata": {},
     "output_type": "execute_result"
    }
   ],
   "source": [
    "np.argmin(random_int1)"
   ]
  },
  {
   "cell_type": "markdown",
   "id": "1c34e9e9",
   "metadata": {},
   "source": [
    "---\n",
    "\n",
    "### More Resources\n",
    "\n",
    "🔗 For more  exercises, check out the [NumPy quickstart tutorial](https://numpy.org/doc/stable/user/quickstart.html).\n",
    "\n",
    "🔗 For more helpful materials, check out the [Stack Overflow page for the top questions and answers for NumPy](https://stackoverflow.com/questions/tagged/numpy?sort=MostVotes&edited=true). Most of the time as you reading the questions you can find usefull functions to learn.\n",
    "\n",
    "👀 Finally, remeber that the best way to learn something new is **to try it**. "
   ]
  },
  {
   "cell_type": "markdown",
   "id": "0f56c00c",
   "metadata": {},
   "source": [
    "---\n",
    "<a name='support-me'></a>\n",
    "### THE END \n",
    "\n",
    "🔸 If you want to be in touch with **me** (Ahmad Ahmadi), click this [link](https://t.me/izlearn_support) to be taken to my **Telegram**.\n",
    "\n",
    "🔸 If you have a **LinkedIn** account, **[this](https://linkedin.com/in/ahmad-ahmadi95/)** is my page I will be happy to have you as my connections.\n",
    "\n",
    "🔸 Finally using this **[link](https://zarinp.al/454855)**(Iran) and this **[link](https://paylink.payment4.com/fa/izlearn/2572d5b8-9ece-48ba-8014-3192ed9274e2)**(out of Iran) you're able to **donate🎁** and **support** our team. 🤙🏼"
   ]
  }
 ],
 "metadata": {
  "kernelspec": {
   "display_name": "Python 3 (ipykernel)",
   "language": "python",
   "name": "python3"
  },
  "language_info": {
   "codemirror_mode": {
    "name": "ipython",
    "version": 3
   },
   "file_extension": ".py",
   "mimetype": "text/x-python",
   "name": "python",
   "nbconvert_exporter": "python",
   "pygments_lexer": "ipython3",
   "version": "3.9.5"
  }
 },
 "nbformat": 4,
 "nbformat_minor": 5
}
