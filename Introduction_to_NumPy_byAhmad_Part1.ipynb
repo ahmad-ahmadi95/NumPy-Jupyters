{
 "cells": [
  {
   "cell_type": "markdown",
   "id": "06ba0569",
   "metadata": {},
   "source": [
    "👨‍🏫 **Jupyter By:** [Ahmad Ahmadi](https://www.linkedin.com/in/ahmad-ahmadi95/) \n",
    "\n",
    "🌏 **Website: [izlearn.ir](https://izlearn.ir)**\n",
    "\n",
    "🔗 **[Support Me](#support-me)**\n",
    "\n",
    "---"
   ]
  },
  {
   "cell_type": "markdown",
   "id": "6d2bee5c",
   "metadata": {},
   "source": [
    "• **Table of The Content**\n",
    "\n",
    "- [1. What is NumPy](#1)\n",
    "- [2. Why NumPy](#2)\n",
    "- [3. NumPy's DataTypes & Attributes](#3)\n",
    "- [4. Creating Pandas DataFrame From a NumPy Array](#4)\n",
    "- [5. Creating NumPy Arrays](#5)\n",
    "- [6. Viewing Array & Matrices](#6)\n",
    "- [7. Manipulating & Comparing Arrays](#7)\n",
    "- [8. Aggregation](#8)\n",
    "- [9.  Reshaping & Transpose of Arrays](#9)\n",
    "- [10. Dot Product & Element Wise Multiplication](#10)\n",
    "- [11. Let's Have an Exercise](#11)\n",
    "- [12. Comparison Operators¶](#12)\n",
    "- [13. Sorting Arrays](#13)\n",
    "- [14. Turn Images Into NumPy Arrays](#14)\n",
    "- [15. More Resources for NumPy](#more-resources)"
   ]
  },
  {
   "cell_type": "markdown",
   "id": "fd50485f",
   "metadata": {},
   "source": [
    "## 🔰 NumPy Library"
   ]
  },
  {
   "cell_type": "markdown",
   "id": "fd8f0d63",
   "metadata": {},
   "source": [
    "<a name=\"1\"></a>\n",
    "### 1. What is NumPy? \n",
    "\n",
    "🔸 It stands for **Nu**merical **Py**thon.\n",
    "\n",
    "🔸 In machine learning we have to convert all types of data into **series of numbers**. \n",
    "\n",
    "🔸 NumPy is essential package for **data analysis**\n",
    "\n",
    "🔸 [Numpy Documentation](https://numpy.org/doc/2.1/user/absolute_beginners.html)\n",
    "\n",
    "---"
   ]
  },
  {
   "cell_type": "markdown",
   "id": "c9ced593",
   "metadata": {},
   "source": [
    "<a name=\"2\"></a>\n",
    "### 2. Why NumPy?\n",
    "\n",
    "🔸 It's **fast**.\n",
    "\n",
    "🔸 Behind the scenes the optimization code was written in **C** language! (a very powerful & fast programming language)\n",
    "\n",
    "🔸 NumPy supports techniques called **vectorization** and **broadcasting** that help us avoid using loops!\n",
    "\n",
    "🔸 See image of [vectorization](Jupyter-Images/vectorization-&-broadcasting-in-numpy-01.png) and [broadcasting](Jupyter-Images/vectorization-&-broadcasting-in-numpy-02.png) in NumPy.\n",
    "\n",
    "---"
   ]
  },
  {
   "cell_type": "code",
   "execution_count": 1,
   "id": "0e161ab2",
   "metadata": {},
   "outputs": [],
   "source": [
    "# import numpy package:\n",
    "import numpy as np"
   ]
  },
  {
   "cell_type": "markdown",
   "id": "210aaafa",
   "metadata": {},
   "source": [
    "<a name=\"3\"></a>\n",
    "### 3. NumPy's DataTypes & Attributes\n",
    "\n",
    "🔸 NumPy's main datatype is just **ndarray**,\n",
    "\n",
    "🔸 **ndarray** means **n** dimensional array."
   ]
  },
  {
   "cell_type": "code",
   "execution_count": 2,
   "id": "11806aea",
   "metadata": {},
   "outputs": [],
   "source": [
    "# Use np.array() to create an array in 'NumPy'\n",
    "my_list = [5, 7, 10]\n",
    "array1 = np.array(my_list)"
   ]
  },
  {
   "cell_type": "code",
   "execution_count": 3,
   "id": "fcea8f17",
   "metadata": {},
   "outputs": [
    {
     "data": {
      "text/plain": [
       "array([ 5,  7, 10])"
      ]
     },
     "execution_count": 3,
     "metadata": {},
     "output_type": "execute_result"
    }
   ],
   "source": [
    "# Return 'array1'\n",
    "array1"
   ]
  },
  {
   "cell_type": "code",
   "execution_count": 4,
   "id": "b729a332",
   "metadata": {},
   "outputs": [
    {
     "data": {
      "text/plain": [
       "numpy.ndarray"
      ]
     },
     "execution_count": 4,
     "metadata": {},
     "output_type": "execute_result"
    }
   ],
   "source": [
    "# Check the type of 'array1'\n",
    "type(array1)"
   ]
  },
  {
   "cell_type": "code",
   "execution_count": 5,
   "id": "af74e652",
   "metadata": {},
   "outputs": [
    {
     "data": {
      "text/plain": [
       "array([[1., 2., 3.],\n",
       "       [4., 5., 6.],\n",
       "       [7., 8., 9.]])"
      ]
     },
     "execution_count": 5,
     "metadata": {},
     "output_type": "execute_result"
    }
   ],
   "source": [
    "# More arrays\n",
    "array2 = np.array([[1.0, 2.0, 3.0],\n",
    "                  [4.0, 5.0, 6.0],\n",
    "                  [7.0, 8.0, 9.0]])\n",
    "array2"
   ]
  },
  {
   "cell_type": "code",
   "execution_count": 6,
   "id": "b6173119",
   "metadata": {},
   "outputs": [
    {
     "data": {
      "text/plain": [
       "array([[[ 1,  2,  3],\n",
       "        [ 4,  5,  6],\n",
       "        [ 7,  8,  9]],\n",
       "\n",
       "       [[10, 11, 12],\n",
       "        [13, 14, 15],\n",
       "        [16, 17, 18]]])"
      ]
     },
     "execution_count": 6,
     "metadata": {},
     "output_type": "execute_result"
    }
   ],
   "source": [
    "array3 = np.array([[[1, 2, 3],\n",
    "                   [4, 5, 6],\n",
    "                   [7, 8, 9]],\n",
    "                   [[10, 11, 12],\n",
    "                   [13, 14, 15],\n",
    "                   [16, 17, 18]]])\n",
    "\n",
    "array3"
   ]
  },
  {
   "cell_type": "markdown",
   "id": "16b51a4c",
   "metadata": {},
   "source": [
    "#### 3.1. Attributes"
   ]
  },
  {
   "cell_type": "code",
   "execution_count": 7,
   "id": "89363edb",
   "metadata": {},
   "outputs": [
    {
     "name": "stdout",
     "output_type": "stream",
     "text": [
      "array1 dtype is: int64\n",
      "array2 dtype is: float64\n",
      "array3 dtype is: int64\n"
     ]
    }
   ],
   "source": [
    "# dtype attribute: type of data within an array\n",
    "print(f\"array1 dtype is: {array1.dtype}\")\n",
    "print(f\"array2 dtype is: {array2.dtype}\")\n",
    "print(f\"array3 dtype is: {array3.dtype}\")"
   ]
  },
  {
   "cell_type": "code",
   "execution_count": 8,
   "id": "d3022e5f",
   "metadata": {},
   "outputs": [
    {
     "name": "stdout",
     "output_type": "stream",
     "text": [
      "array1 shape is: (3,)\n",
      "array2 shape is: (3, 3)\n",
      "array3 shape is: (2, 3, 3)\n"
     ]
    }
   ],
   "source": [
    "# shape attrube: shape of an array\n",
    "print(f\"array1 shape is: {array1.shape}\")\n",
    "print(f\"array2 shape is: {array2.shape}\")\n",
    "print(f\"array3 shape is: {array3.shape}\")"
   ]
  },
  {
   "cell_type": "code",
   "execution_count": 9,
   "id": "72831f0d",
   "metadata": {},
   "outputs": [
    {
     "name": "stdout",
     "output_type": "stream",
     "text": [
      "array1 size is: 3\n",
      "array2 size is: 9\n",
      "array3 size is: 18\n"
     ]
    }
   ],
   "source": [
    "# size attrubte: number of all elements within an array\n",
    "print(f\"array1 size is: {array1.size}\")\n",
    "print(f\"array2 size is: {array2.size}\")\n",
    "print(f\"array3 size is: {array3.size}\")"
   ]
  },
  {
   "cell_type": "code",
   "execution_count": 10,
   "id": "de39c67b",
   "metadata": {},
   "outputs": [
    {
     "name": "stdout",
     "output_type": "stream",
     "text": [
      "array1 ndim is: 1\n",
      "array2 ndim is: 2\n",
      "array3 ndim is: 3\n"
     ]
    }
   ],
   "source": [
    "# ndim attribute: number of dimension of an array\n",
    "print(f\"array1 ndim is: {array1.ndim}\")\n",
    "print(f\"array2 ndim is: {array2.ndim}\")\n",
    "print(f\"array3 ndim is: {array3.ndim}\")"
   ]
  },
  {
   "cell_type": "markdown",
   "id": "edc1190c",
   "metadata": {},
   "source": [
    "<a name=\"4\"></a>\n",
    "### 4. Creating Pandas DataFrame From a NumPy Array"
   ]
  },
  {
   "cell_type": "code",
   "execution_count": 11,
   "id": "7f95ef1e",
   "metadata": {},
   "outputs": [],
   "source": [
    "# import 'pandas' package\n",
    "import pandas as pd"
   ]
  },
  {
   "cell_type": "code",
   "execution_count": 12,
   "id": "7dac349c",
   "metadata": {},
   "outputs": [],
   "source": [
    "df = pd.DataFrame(data=array2)"
   ]
  },
  {
   "cell_type": "code",
   "execution_count": 13,
   "id": "150fc333",
   "metadata": {},
   "outputs": [
    {
     "data": {
      "text/html": [
       "<div>\n",
       "<style scoped>\n",
       "    .dataframe tbody tr th:only-of-type {\n",
       "        vertical-align: middle;\n",
       "    }\n",
       "\n",
       "    .dataframe tbody tr th {\n",
       "        vertical-align: top;\n",
       "    }\n",
       "\n",
       "    .dataframe thead th {\n",
       "        text-align: right;\n",
       "    }\n",
       "</style>\n",
       "<table border=\"1\" class=\"dataframe\">\n",
       "  <thead>\n",
       "    <tr style=\"text-align: right;\">\n",
       "      <th></th>\n",
       "      <th>0</th>\n",
       "      <th>1</th>\n",
       "      <th>2</th>\n",
       "    </tr>\n",
       "  </thead>\n",
       "  <tbody>\n",
       "    <tr>\n",
       "      <th>0</th>\n",
       "      <td>1.0</td>\n",
       "      <td>2.0</td>\n",
       "      <td>3.0</td>\n",
       "    </tr>\n",
       "    <tr>\n",
       "      <th>1</th>\n",
       "      <td>4.0</td>\n",
       "      <td>5.0</td>\n",
       "      <td>6.0</td>\n",
       "    </tr>\n",
       "    <tr>\n",
       "      <th>2</th>\n",
       "      <td>7.0</td>\n",
       "      <td>8.0</td>\n",
       "      <td>9.0</td>\n",
       "    </tr>\n",
       "  </tbody>\n",
       "</table>\n",
       "</div>"
      ],
      "text/plain": [
       "     0    1    2\n",
       "0  1.0  2.0  3.0\n",
       "1  4.0  5.0  6.0\n",
       "2  7.0  8.0  9.0"
      ]
     },
     "execution_count": 13,
     "metadata": {},
     "output_type": "execute_result"
    }
   ],
   "source": [
    "df"
   ]
  },
  {
   "cell_type": "markdown",
   "id": "1866069f",
   "metadata": {},
   "source": [
    "<a name=\"5\"></a>\n",
    "### 5. Creating NumPy Arrays"
   ]
  },
  {
   "cell_type": "code",
   "execution_count": 14,
   "id": "232a97a5",
   "metadata": {},
   "outputs": [],
   "source": [
    "# Using np.array() function\n",
    "sample_array = np.array([[1, 2, 3],\n",
    "                        [4, 5, 6],\n",
    "                        [7, 8, 9]])"
   ]
  },
  {
   "cell_type": "code",
   "execution_count": 15,
   "id": "4d321241",
   "metadata": {},
   "outputs": [
    {
     "data": {
      "text/plain": [
       "array([[1, 2, 3],\n",
       "       [4, 5, 6],\n",
       "       [7, 8, 9]])"
      ]
     },
     "execution_count": 15,
     "metadata": {},
     "output_type": "execute_result"
    }
   ],
   "source": [
    "sample_array"
   ]
  },
  {
   "cell_type": "code",
   "execution_count": 16,
   "id": "e05c084f",
   "metadata": {},
   "outputs": [],
   "source": [
    "# Using np.ones() function\n",
    "ones = np.ones(shape=(2, 3))"
   ]
  },
  {
   "cell_type": "code",
   "execution_count": 17,
   "id": "3c464e50",
   "metadata": {},
   "outputs": [
    {
     "data": {
      "text/plain": [
       "array([[1., 1., 1.],\n",
       "       [1., 1., 1.]])"
      ]
     },
     "execution_count": 17,
     "metadata": {},
     "output_type": "execute_result"
    }
   ],
   "source": [
    "ones"
   ]
  },
  {
   "cell_type": "code",
   "execution_count": 18,
   "id": "0db5dbee",
   "metadata": {},
   "outputs": [
    {
     "name": "stdout",
     "output_type": "stream",
     "text": [
      "ones shape is: (2, 3)\n"
     ]
    }
   ],
   "source": [
    "print(f\"ones shape is: {ones.shape}\")"
   ]
  },
  {
   "cell_type": "code",
   "execution_count": 19,
   "id": "d90f7497",
   "metadata": {},
   "outputs": [],
   "source": [
    "# Using np.zeros() function\n",
    "zeros = np.zeros(shape=(3, 5))"
   ]
  },
  {
   "cell_type": "code",
   "execution_count": 20,
   "id": "8540031f",
   "metadata": {},
   "outputs": [
    {
     "data": {
      "text/plain": [
       "array([[0., 0., 0., 0., 0.],\n",
       "       [0., 0., 0., 0., 0.],\n",
       "       [0., 0., 0., 0., 0.]])"
      ]
     },
     "execution_count": 20,
     "metadata": {},
     "output_type": "execute_result"
    }
   ],
   "source": [
    "zeros"
   ]
  },
  {
   "cell_type": "code",
   "execution_count": 21,
   "id": "5fc04d3b",
   "metadata": {},
   "outputs": [
    {
     "name": "stdout",
     "output_type": "stream",
     "text": [
      "zeros shape is: (3, 5)\n"
     ]
    }
   ],
   "source": [
    "print(f\"zeros shape is: {zeros.shape}\")"
   ]
  },
  {
   "cell_type": "code",
   "execution_count": 22,
   "id": "6279f7d8",
   "metadata": {},
   "outputs": [],
   "source": [
    "# Using np.arange() function\n",
    "range_array = np.arange(start=0, stop=10, step=1)"
   ]
  },
  {
   "cell_type": "code",
   "execution_count": 23,
   "id": "58a4ee02",
   "metadata": {},
   "outputs": [
    {
     "data": {
      "text/plain": [
       "array([0, 1, 2, 3, 4, 5, 6, 7, 8, 9])"
      ]
     },
     "execution_count": 23,
     "metadata": {},
     "output_type": "execute_result"
    }
   ],
   "source": [
    "range_array"
   ]
  },
  {
   "cell_type": "markdown",
   "id": "0b3d23e3",
   "metadata": {},
   "source": [
    "#### 5.1. Creating Randomness in NumPy\n",
    "\n",
    "🔸 There are **3** ways to create **random** array in NumPy\n",
    "\n",
    "- `np.random.randint(low, high, size)`\n",
    "- `np.random.random(size)`\n",
    "- `np.radnom.rand(d0, d1, d2, ...)`"
   ]
  },
  {
   "cell_type": "code",
   "execution_count": 24,
   "id": "fba00382",
   "metadata": {},
   "outputs": [],
   "source": [
    "# Using np.random.randint() function\n",
    "random_array1 = np.random.randint(1, 10, size=(3, 5))"
   ]
  },
  {
   "cell_type": "code",
   "execution_count": 25,
   "id": "e5cb4919",
   "metadata": {},
   "outputs": [
    {
     "data": {
      "text/plain": [
       "array([[9, 1, 8, 6, 9],\n",
       "       [9, 7, 6, 6, 7],\n",
       "       [4, 8, 1, 2, 6]], dtype=int32)"
      ]
     },
     "execution_count": 25,
     "metadata": {},
     "output_type": "execute_result"
    }
   ],
   "source": [
    "random_array1"
   ]
  },
  {
   "cell_type": "code",
   "execution_count": 26,
   "id": "6e4752ed",
   "metadata": {},
   "outputs": [],
   "source": [
    "# Using np.random.random() function\n",
    "random_array2 = np.random.random(size=(5, 3))"
   ]
  },
  {
   "cell_type": "code",
   "execution_count": 27,
   "id": "3f416a95",
   "metadata": {},
   "outputs": [
    {
     "data": {
      "text/plain": [
       "array([[0.09571679, 0.42414413, 0.58033808],\n",
       "       [0.33383182, 0.86404942, 0.1539134 ],\n",
       "       [0.7267138 , 0.87539485, 0.99723963],\n",
       "       [0.7517725 , 0.86532008, 0.21326753],\n",
       "       [0.76554341, 0.81223612, 0.23005783]])"
      ]
     },
     "execution_count": 27,
     "metadata": {},
     "output_type": "execute_result"
    }
   ],
   "source": [
    "random_array2"
   ]
  },
  {
   "cell_type": "code",
   "execution_count": 28,
   "id": "a34fe11d",
   "metadata": {},
   "outputs": [],
   "source": [
    "# Using np.random.rand() function\n",
    "random_array3 = np.random.rand(5, 3)"
   ]
  },
  {
   "cell_type": "code",
   "execution_count": 29,
   "id": "f895c8f6",
   "metadata": {},
   "outputs": [
    {
     "data": {
      "text/plain": [
       "array([[0.07103787, 0.32279299, 0.50801657],\n",
       "       [0.16961801, 0.61961099, 0.7961364 ],\n",
       "       [0.11632224, 0.61808591, 0.38687235],\n",
       "       [0.65721577, 0.354474  , 0.28854676],\n",
       "       [0.4987089 , 0.59088443, 0.35553093]])"
      ]
     },
     "execution_count": 29,
     "metadata": {},
     "output_type": "execute_result"
    }
   ],
   "source": [
    "random_array3"
   ]
  },
  {
   "cell_type": "markdown",
   "id": "294cc9ca",
   "metadata": {},
   "source": [
    "#### 5.2. Pseudo-random Numbers"
   ]
  },
  {
   "cell_type": "code",
   "execution_count": 30,
   "id": "4e0bec59",
   "metadata": {},
   "outputs": [],
   "source": [
    "# Using np.random.seed(seed=a_number) -> we always get the same random numbers\n",
    "np.random.seed(seed=7)\n",
    "random_array4 = np.random.randint(1, 10, size=(5, 3))"
   ]
  },
  {
   "cell_type": "code",
   "execution_count": 31,
   "id": "b1355bb3",
   "metadata": {},
   "outputs": [
    {
     "data": {
      "text/plain": [
       "array([[5, 7, 4],\n",
       "       [4, 8, 8],\n",
       "       [8, 9, 9],\n",
       "       [8, 7, 5],\n",
       "       [1, 8, 1]], dtype=int32)"
      ]
     },
     "execution_count": 31,
     "metadata": {},
     "output_type": "execute_result"
    }
   ],
   "source": [
    "random_array4"
   ]
  },
  {
   "cell_type": "markdown",
   "id": "a794f191",
   "metadata": {},
   "source": [
    "<a name=\"6\"></a>\n",
    "### 6. Viewing Array & Matrices"
   ]
  },
  {
   "cell_type": "markdown",
   "id": "31b607a4",
   "metadata": {},
   "source": [
    "**Question:** How to find **unique** elements in a number array? [answer](https://numpy.org/doc/stable/reference/generated/numpy.unique.html)\n",
    "\n",
    "- Using `np.unique(an_array)` "
   ]
  },
  {
   "cell_type": "code",
   "execution_count": 32,
   "id": "d6f3b516",
   "metadata": {},
   "outputs": [
    {
     "data": {
      "text/plain": [
       "array([[9, 1, 8, 6, 9],\n",
       "       [9, 7, 6, 6, 7],\n",
       "       [4, 8, 1, 2, 6]], dtype=int32)"
      ]
     },
     "execution_count": 32,
     "metadata": {},
     "output_type": "execute_result"
    }
   ],
   "source": [
    "random_array1"
   ]
  },
  {
   "cell_type": "code",
   "execution_count": 33,
   "id": "f81a2447",
   "metadata": {},
   "outputs": [
    {
     "data": {
      "text/plain": [
       "array([1, 2, 4, 6, 7, 8, 9], dtype=int32)"
      ]
     },
     "execution_count": 33,
     "metadata": {},
     "output_type": "execute_result"
    }
   ],
   "source": [
    "# Using np.unique() find the unique elements in random_array1\n",
    "np.unique(random_array1)"
   ]
  },
  {
   "cell_type": "code",
   "execution_count": 34,
   "id": "85638ac7",
   "metadata": {},
   "outputs": [
    {
     "data": {
      "text/plain": [
       "array([[1., 2., 3.],\n",
       "       [4., 5., 6.],\n",
       "       [7., 8., 9.]])"
      ]
     },
     "execution_count": 34,
     "metadata": {},
     "output_type": "execute_result"
    }
   ],
   "source": [
    "array2"
   ]
  },
  {
   "cell_type": "code",
   "execution_count": 35,
   "id": "1bef2ec5",
   "metadata": {},
   "outputs": [
    {
     "data": {
      "text/plain": [
       "np.float64(2.0)"
      ]
     },
     "execution_count": 35,
     "metadata": {},
     "output_type": "execute_result"
    }
   ],
   "source": [
    "# Access the element '2' in 'array2'\n",
    "array2[0][1]"
   ]
  },
  {
   "cell_type": "code",
   "execution_count": 36,
   "id": "30fd9771",
   "metadata": {},
   "outputs": [
    {
     "data": {
      "text/plain": [
       "np.float64(6.0)"
      ]
     },
     "execution_count": 36,
     "metadata": {},
     "output_type": "execute_result"
    }
   ],
   "source": [
    "# Access the element '6' in 'array2'\n",
    "array2[1][2]"
   ]
  },
  {
   "cell_type": "code",
   "execution_count": 37,
   "id": "e92e4ef1",
   "metadata": {},
   "outputs": [
    {
     "data": {
      "text/plain": [
       "array([2., 3.])"
      ]
     },
     "execution_count": 37,
     "metadata": {},
     "output_type": "execute_result"
    }
   ],
   "source": [
    "# Slice 'array2' using multiple indexing\n",
    "array2[0][1:]"
   ]
  },
  {
   "cell_type": "markdown",
   "id": "cec25856",
   "metadata": {},
   "source": [
    "<a name=\"7\"></a>\n",
    "### 7. Manipulating & Comparing Arrays"
   ]
  },
  {
   "cell_type": "markdown",
   "id": "37323b60",
   "metadata": {},
   "source": [
    "#### 7.1. Arithmetic "
   ]
  },
  {
   "cell_type": "code",
   "execution_count": 38,
   "id": "90806a1d",
   "metadata": {},
   "outputs": [
    {
     "data": {
      "text/plain": [
       "array([ 5,  7, 10])"
      ]
     },
     "execution_count": 38,
     "metadata": {},
     "output_type": "execute_result"
    }
   ],
   "source": [
    "array1"
   ]
  },
  {
   "cell_type": "code",
   "execution_count": 39,
   "id": "0900a19a",
   "metadata": {},
   "outputs": [
    {
     "data": {
      "text/plain": [
       "array([[1., 1., 1.],\n",
       "       [1., 1., 1.]])"
      ]
     },
     "execution_count": 39,
     "metadata": {},
     "output_type": "execute_result"
    }
   ],
   "source": [
    "ones"
   ]
  },
  {
   "cell_type": "code",
   "execution_count": 40,
   "id": "b92ad9e5",
   "metadata": {},
   "outputs": [
    {
     "data": {
      "text/plain": [
       "array([[ 6.,  8., 11.],\n",
       "       [ 6.,  8., 11.]])"
      ]
     },
     "execution_count": 40,
     "metadata": {},
     "output_type": "execute_result"
    }
   ],
   "source": [
    "array1 + ones"
   ]
  },
  {
   "cell_type": "code",
   "execution_count": 41,
   "id": "a49ec8d6",
   "metadata": {},
   "outputs": [
    {
     "data": {
      "text/plain": [
       "array([[4., 6., 9.],\n",
       "       [4., 6., 9.]])"
      ]
     },
     "execution_count": 41,
     "metadata": {},
     "output_type": "execute_result"
    }
   ],
   "source": [
    "array1 - ones"
   ]
  },
  {
   "cell_type": "code",
   "execution_count": 42,
   "id": "ffc08eb4",
   "metadata": {},
   "outputs": [
    {
     "data": {
      "text/plain": [
       "array([15, 21, 30])"
      ]
     },
     "execution_count": 42,
     "metadata": {},
     "output_type": "execute_result"
    }
   ],
   "source": [
    "array1 * 3"
   ]
  },
  {
   "cell_type": "code",
   "execution_count": 43,
   "id": "fc2d7889",
   "metadata": {},
   "outputs": [
    {
     "data": {
      "text/plain": [
       "array([1.66666667, 2.33333333, 3.33333333])"
      ]
     },
     "execution_count": 43,
     "metadata": {},
     "output_type": "execute_result"
    }
   ],
   "source": [
    "array1 / 3"
   ]
  },
  {
   "cell_type": "code",
   "execution_count": 44,
   "id": "fce0a13c",
   "metadata": {},
   "outputs": [
    {
     "data": {
      "text/plain": [
       "array([1, 2, 3])"
      ]
     },
     "execution_count": 44,
     "metadata": {},
     "output_type": "execute_result"
    }
   ],
   "source": [
    "array1 // 3"
   ]
  },
  {
   "cell_type": "code",
   "execution_count": 45,
   "id": "dd70c9e0",
   "metadata": {},
   "outputs": [
    {
     "data": {
      "text/plain": [
       "array([ 25,  49, 100])"
      ]
     },
     "execution_count": 45,
     "metadata": {},
     "output_type": "execute_result"
    }
   ],
   "source": [
    "array1 ** 2"
   ]
  },
  {
   "cell_type": "markdown",
   "id": "46b7b1b3",
   "metadata": {},
   "source": [
    "**NumPy** has functions for all above operations!"
   ]
  },
  {
   "cell_type": "code",
   "execution_count": 46,
   "id": "24642d4a",
   "metadata": {},
   "outputs": [
    {
     "data": {
      "text/plain": [
       "array([[ 6.,  8., 11.],\n",
       "       [ 6.,  8., 11.]])"
      ]
     },
     "execution_count": 46,
     "metadata": {},
     "output_type": "execute_result"
    }
   ],
   "source": [
    "np.add(array1, ones)"
   ]
  },
  {
   "cell_type": "code",
   "execution_count": 47,
   "id": "8f296b64",
   "metadata": {},
   "outputs": [
    {
     "data": {
      "text/plain": [
       "array([[4., 6., 9.],\n",
       "       [4., 6., 9.]])"
      ]
     },
     "execution_count": 47,
     "metadata": {},
     "output_type": "execute_result"
    }
   ],
   "source": [
    "np.subtract(array1, ones)"
   ]
  },
  {
   "cell_type": "code",
   "execution_count": 48,
   "id": "61612d73",
   "metadata": {},
   "outputs": [
    {
     "data": {
      "text/plain": [
       "array([[ 5., 14., 30.],\n",
       "       [20., 35., 60.],\n",
       "       [35., 56., 90.]])"
      ]
     },
     "execution_count": 48,
     "metadata": {},
     "output_type": "execute_result"
    }
   ],
   "source": [
    "np.multiply(array1, array2)"
   ]
  },
  {
   "cell_type": "code",
   "execution_count": 49,
   "id": "6bbd5cd9",
   "metadata": {},
   "outputs": [
    {
     "data": {
      "text/plain": [
       "array([1.66666667, 2.33333333, 3.33333333])"
      ]
     },
     "execution_count": 49,
     "metadata": {},
     "output_type": "execute_result"
    }
   ],
   "source": [
    "np.divide(array1, 3)"
   ]
  },
  {
   "cell_type": "code",
   "execution_count": 50,
   "id": "a55d2c53",
   "metadata": {},
   "outputs": [
    {
     "data": {
      "text/plain": [
       "array([2, 1, 1])"
      ]
     },
     "execution_count": 50,
     "metadata": {},
     "output_type": "execute_result"
    }
   ],
   "source": [
    "# np.mod() -> modulo operator (%)\n",
    "np.mod(array1, 3)"
   ]
  },
  {
   "cell_type": "markdown",
   "id": "f24bac25",
   "metadata": {},
   "source": [
    "<a name=\"8\"></a>\n",
    "### 8. Aggregation\n",
    "\n",
    "**Aggregation** = performing the **same operation** on a number of things"
   ]
  },
  {
   "cell_type": "code",
   "execution_count": 51,
   "id": "ac50948c",
   "metadata": {},
   "outputs": [
    {
     "data": {
      "text/plain": [
       "list"
      ]
     },
     "execution_count": 51,
     "metadata": {},
     "output_type": "execute_result"
    }
   ],
   "source": [
    "my_list = [1, 2, 3]\n",
    "type(my_list)"
   ]
  },
  {
   "cell_type": "code",
   "execution_count": 52,
   "id": "7a681e4a",
   "metadata": {},
   "outputs": [],
   "source": [
    "array4 = np.array([1, 2, 3])"
   ]
  },
  {
   "cell_type": "code",
   "execution_count": 53,
   "id": "4b405038",
   "metadata": {},
   "outputs": [
    {
     "data": {
      "text/plain": [
       "numpy.ndarray"
      ]
     },
     "execution_count": 53,
     "metadata": {},
     "output_type": "execute_result"
    }
   ],
   "source": [
    "type(array4)"
   ]
  },
  {
   "cell_type": "code",
   "execution_count": 54,
   "id": "128e3e97",
   "metadata": {},
   "outputs": [
    {
     "data": {
      "text/plain": [
       "np.int64(6)"
      ]
     },
     "execution_count": 54,
     "metadata": {},
     "output_type": "execute_result"
    }
   ],
   "source": [
    "# We can use Python's sum() built-in function\n",
    "sum(array4)"
   ]
  },
  {
   "cell_type": "code",
   "execution_count": 55,
   "id": "8d464bdb",
   "metadata": {},
   "outputs": [
    {
     "data": {
      "text/plain": [
       "np.int64(6)"
      ]
     },
     "execution_count": 55,
     "metadata": {},
     "output_type": "execute_result"
    }
   ],
   "source": [
    "# Or we can use np.sum() from NumPy\n",
    "np.sum(array4)"
   ]
  },
  {
   "cell_type": "markdown",
   "id": "3f032216",
   "metadata": {},
   "source": [
    "<div class=\"alert alert-danger\">\n",
    "    Use Python's methods on Python datatypes<br>\n",
    "    Use NumPy's methods on NumPy arrays\n",
    "</div>"
   ]
  },
  {
   "cell_type": "code",
   "execution_count": 56,
   "id": "b8be85f1",
   "metadata": {},
   "outputs": [],
   "source": [
    "# Create a massive NumPy array\n",
    "massive_array = np.random.random(100000)"
   ]
  },
  {
   "cell_type": "code",
   "execution_count": 57,
   "id": "8b29311e",
   "metadata": {},
   "outputs": [
    {
     "data": {
      "text/plain": [
       "array([0.06593635, 0.2881456 , 0.90959353, 0.21338535, 0.45212396,\n",
       "       0.93120602, 0.02489923, 0.60054892, 0.9501295 , 0.23030288])"
      ]
     },
     "execution_count": 57,
     "metadata": {},
     "output_type": "execute_result"
    }
   ],
   "source": [
    "massive_array[:10]"
   ]
  },
  {
   "cell_type": "code",
   "execution_count": 58,
   "id": "cfd67ba0",
   "metadata": {},
   "outputs": [
    {
     "name": "stdout",
     "output_type": "stream",
     "text": [
      "3.81 ms ± 43.5 µs per loop (mean ± std. dev. of 7 runs, 100 loops each)\n"
     ]
    }
   ],
   "source": [
    "%timeit sum(massive_array)"
   ]
  },
  {
   "cell_type": "code",
   "execution_count": 59,
   "id": "0116ef5f",
   "metadata": {},
   "outputs": [
    {
     "name": "stdout",
     "output_type": "stream",
     "text": [
      "17.4 µs ± 88.8 ns per loop (mean ± std. dev. of 7 runs, 100,000 loops each)\n"
     ]
    }
   ],
   "source": [
    "%timeit np.sum(massive_array)"
   ]
  },
  {
   "cell_type": "code",
   "execution_count": 60,
   "id": "8f44a559",
   "metadata": {},
   "outputs": [
    {
     "data": {
      "text/plain": [
       "212.57142857142858"
      ]
     },
     "execution_count": 60,
     "metadata": {},
     "output_type": "execute_result"
    }
   ],
   "source": [
    "3.72 * 1000 / 17.5"
   ]
  },
  {
   "cell_type": "markdown",
   "id": "40175664",
   "metadata": {},
   "source": [
    "**np.sum()** is 200 times faster than Python's **sum()** function"
   ]
  },
  {
   "cell_type": "code",
   "execution_count": 61,
   "id": "ae746a9f",
   "metadata": {},
   "outputs": [
    {
     "data": {
      "text/plain": [
       "array([[1., 2., 3.],\n",
       "       [4., 5., 6.],\n",
       "       [7., 8., 9.]])"
      ]
     },
     "execution_count": 61,
     "metadata": {},
     "output_type": "execute_result"
    }
   ],
   "source": [
    "array2"
   ]
  },
  {
   "cell_type": "code",
   "execution_count": 62,
   "id": "f359c136",
   "metadata": {},
   "outputs": [
    {
     "data": {
      "text/plain": [
       "np.float64(5.0)"
      ]
     },
     "execution_count": 62,
     "metadata": {},
     "output_type": "execute_result"
    }
   ],
   "source": [
    "# Using np.mean() -> mean of an array\n",
    "np.mean(array2)"
   ]
  },
  {
   "cell_type": "code",
   "execution_count": 63,
   "id": "77f9200b",
   "metadata": {},
   "outputs": [
    {
     "data": {
      "text/plain": [
       "np.float64(45.0)"
      ]
     },
     "execution_count": 63,
     "metadata": {},
     "output_type": "execute_result"
    }
   ],
   "source": [
    "np.sum(array2)"
   ]
  },
  {
   "cell_type": "code",
   "execution_count": 64,
   "id": "4bae572b",
   "metadata": {},
   "outputs": [
    {
     "data": {
      "text/plain": [
       "np.float64(9.0)"
      ]
     },
     "execution_count": 64,
     "metadata": {},
     "output_type": "execute_result"
    }
   ],
   "source": [
    "np.max(array2)"
   ]
  },
  {
   "cell_type": "code",
   "execution_count": 65,
   "id": "442bdb9d",
   "metadata": {},
   "outputs": [
    {
     "data": {
      "text/plain": [
       "np.float64(1.0)"
      ]
     },
     "execution_count": 65,
     "metadata": {},
     "output_type": "execute_result"
    }
   ],
   "source": [
    "np.min(array2)"
   ]
  },
  {
   "cell_type": "code",
   "execution_count": 66,
   "id": "679f59a9",
   "metadata": {},
   "outputs": [
    {
     "data": {
      "text/plain": [
       "np.float64(2.581988897471611)"
      ]
     },
     "execution_count": 66,
     "metadata": {},
     "output_type": "execute_result"
    }
   ],
   "source": [
    "np.std(array2)"
   ]
  },
  {
   "cell_type": "code",
   "execution_count": 67,
   "id": "5827b14a",
   "metadata": {},
   "outputs": [
    {
     "data": {
      "text/plain": [
       "np.float64(6.666666666666667)"
      ]
     },
     "execution_count": 67,
     "metadata": {},
     "output_type": "execute_result"
    }
   ],
   "source": [
    "np.var(array2)"
   ]
  },
  {
   "cell_type": "markdown",
   "id": "cff99c9e",
   "metadata": {},
   "source": [
    "**Variance**: a measure of **average degree** to which each number is different to the **mean**.\n",
    "\n",
    "**Standard Deviation (std)**: a measure of how spread out a group of number is from the **mean**."
   ]
  },
  {
   "cell_type": "code",
   "execution_count": 68,
   "id": "816c6bc5",
   "metadata": {},
   "outputs": [],
   "source": [
    "# More about 'std' and 'variance'\n",
    "high_var_array = np.array([1, 100, 200, 300, 4000, 5000])\n",
    "low_var_array = np.array([2, 4, 6, 8, 10])"
   ]
  },
  {
   "cell_type": "code",
   "execution_count": 69,
   "id": "13d7e7b9",
   "metadata": {},
   "outputs": [
    {
     "name": "stdout",
     "output_type": "stream",
     "text": [
      "high_var_array mean is: 1600.1666666666667\n",
      "low_var_array mean is: 6.0\n"
     ]
    }
   ],
   "source": [
    "print(f\"high_var_array mean is: {np.mean(high_var_array)}\")\n",
    "print(f\"low_var_array mean is: {np.mean(low_var_array)}\")"
   ]
  },
  {
   "cell_type": "code",
   "execution_count": 70,
   "id": "7ebaeec8",
   "metadata": {},
   "outputs": [
    {
     "name": "stdout",
     "output_type": "stream",
     "text": [
      "high_var_array variance is: 4296133.472222221\n",
      "low_var_array variance is: 8.0\n"
     ]
    }
   ],
   "source": [
    "print(f\"high_var_array variance is: {np.var(high_var_array)}\")\n",
    "print(f\"low_var_array variance is: {np.var(low_var_array)}\")"
   ]
  },
  {
   "cell_type": "code",
   "execution_count": 71,
   "id": "7486475f",
   "metadata": {},
   "outputs": [
    {
     "name": "stdout",
     "output_type": "stream",
     "text": [
      "high_var_array std is: 2072.711623024829\n",
      "low_var_array std is: 2.8284271247461903\n"
     ]
    }
   ],
   "source": [
    "print(f\"high_var_array std is: {np.std(high_var_array)}\")\n",
    "print(f\"low_var_array std is: {np.std(low_var_array)}\")"
   ]
  },
  {
   "cell_type": "code",
   "execution_count": 72,
   "id": "32062e0e",
   "metadata": {},
   "outputs": [],
   "source": [
    "# Let's plot the two arrays\n",
    "import matplotlib.pyplot as plt"
   ]
  },
  {
   "cell_type": "code",
   "execution_count": 73,
   "id": "0ee7daca",
   "metadata": {},
   "outputs": [
    {
     "data": {
      "image/png": "[encoded data removed]",
      "text/plain": [
       "<Figure size 640x480 with 1 Axes>"
      ]
     },
     "metadata": {},
     "output_type": "display_data"
    }
   ],
   "source": [
    "plt.hist(high_var_array)\n",
    "plt.show()"
   ]
  },
  {
   "cell_type": "code",
   "execution_count": 74,
   "id": "c498891f",
   "metadata": {},
   "outputs": [
    {
     "data": {
      "image/png": "[encoded data removed]",
      "text/plain": [
       "<Figure size 640x480 with 1 Axes>"
      ]
     },
     "metadata": {},
     "output_type": "display_data"
    }
   ],
   "source": [
    "plt.hist(low_var_array)\n",
    "plt.show()"
   ]
  },
  {
   "cell_type": "markdown",
   "id": "049e883a",
   "metadata": {},
   "source": [
    "<a name=\"9\"></a>\n",
    "### 9. Reshaping & Transpose of Arrays"
   ]
  },
  {
   "cell_type": "code",
   "execution_count": 75,
   "id": "7a9c8838",
   "metadata": {},
   "outputs": [
    {
     "data": {
      "text/plain": [
       "array([[1., 2., 3.],\n",
       "       [4., 5., 6.],\n",
       "       [7., 8., 9.]])"
      ]
     },
     "execution_count": 75,
     "metadata": {},
     "output_type": "execute_result"
    }
   ],
   "source": [
    "array2"
   ]
  },
  {
   "cell_type": "code",
   "execution_count": 76,
   "id": "25bf6be1",
   "metadata": {},
   "outputs": [
    {
     "data": {
      "text/plain": [
       "(3, 3)"
      ]
     },
     "execution_count": 76,
     "metadata": {},
     "output_type": "execute_result"
    }
   ],
   "source": [
    "array2.shape"
   ]
  },
  {
   "cell_type": "code",
   "execution_count": 77,
   "id": "3ded0cd3",
   "metadata": {},
   "outputs": [
    {
     "data": {
      "text/plain": [
       "array([[[  1.,   4.,   9.],\n",
       "        [ 16.,  25.,  36.],\n",
       "        [ 49.,  64.,  81.]],\n",
       "\n",
       "       [[ 10.,  22.,  36.],\n",
       "        [ 52.,  70.,  90.],\n",
       "        [112., 136., 162.]]])"
      ]
     },
     "execution_count": 77,
     "metadata": {},
     "output_type": "execute_result"
    }
   ],
   "source": [
    "array2 * array3"
   ]
  },
  {
   "cell_type": "markdown",
   "id": "c65caa90",
   "metadata": {},
   "source": [
    "**To solve** the above **ValueError** let's change the shape of arrays to be compatible for the multiplication operation"
   ]
  },
  {
   "cell_type": "markdown",
   "id": "ec02ece8",
   "metadata": {},
   "source": [
    "#### 9.1. Reshaping"
   ]
  },
  {
   "cell_type": "code",
   "execution_count": 78,
   "id": "5316f4bf",
   "metadata": {},
   "outputs": [
    {
     "ename": "ValueError",
     "evalue": "cannot reshape array of size 9 into shape (1,2,3)",
     "output_type": "error",
     "traceback": [
      "\u001b[1;31m---------------------------------------------------------------------------\u001b[0m",
      "\u001b[1;31mValueError\u001b[0m                                Traceback (most recent call last)",
      "Cell \u001b[1;32mIn[78], line 1\u001b[0m\n\u001b[1;32m----> 1\u001b[0m array2 \u001b[38;5;241m=\u001b[39m \u001b[43marray2\u001b[49m\u001b[38;5;241;43m.\u001b[39;49m\u001b[43mreshape\u001b[49m\u001b[43m(\u001b[49m\u001b[38;5;241;43m1\u001b[39;49m\u001b[43m,\u001b[49m\u001b[43m \u001b[49m\u001b[38;5;241;43m2\u001b[39;49m\u001b[43m,\u001b[49m\u001b[43m \u001b[49m\u001b[38;5;241;43m3\u001b[39;49m\u001b[43m)\u001b[49m\n",
      "\u001b[1;31mValueError\u001b[0m: cannot reshape array of size 9 into shape (1,2,3)"
     ]
    }
   ],
   "source": [
    "array2 = array2.reshape(1, 2, 3)"
   ]
  },
  {
   "cell_type": "code",
   "execution_count": 79,
   "id": "a309e9e3",
   "metadata": {},
   "outputs": [
    {
     "data": {
      "text/plain": [
       "array([[1., 2., 3.],\n",
       "       [4., 5., 6.],\n",
       "       [7., 8., 9.]])"
      ]
     },
     "execution_count": 79,
     "metadata": {},
     "output_type": "execute_result"
    }
   ],
   "source": [
    "array2"
   ]
  },
  {
   "cell_type": "code",
   "execution_count": 80,
   "id": "aca3dec3",
   "metadata": {},
   "outputs": [
    {
     "data": {
      "text/plain": [
       "(3, 3)"
      ]
     },
     "execution_count": 80,
     "metadata": {},
     "output_type": "execute_result"
    }
   ],
   "source": [
    "array2.shape"
   ]
  },
  {
   "cell_type": "code",
   "execution_count": 81,
   "id": "89bbff1d",
   "metadata": {},
   "outputs": [
    {
     "data": {
      "text/plain": [
       "array([[[  1.,   4.,   9.],\n",
       "        [ 16.,  25.,  36.],\n",
       "        [ 49.,  64.,  81.]],\n",
       "\n",
       "       [[ 10.,  22.,  36.],\n",
       "        [ 52.,  70.,  90.],\n",
       "        [112., 136., 162.]]])"
      ]
     },
     "execution_count": 81,
     "metadata": {},
     "output_type": "execute_result"
    }
   ],
   "source": [
    "array2 * array3"
   ]
  },
  {
   "cell_type": "markdown",
   "id": "2d36b9c1",
   "metadata": {},
   "source": [
    "#### 9.2. Transpose"
   ]
  },
  {
   "cell_type": "code",
   "execution_count": 82,
   "id": "6f81d6ef",
   "metadata": {},
   "outputs": [
    {
     "data": {
      "text/plain": [
       "array([[1., 2., 3.],\n",
       "       [4., 5., 6.],\n",
       "       [7., 8., 9.]])"
      ]
     },
     "execution_count": 82,
     "metadata": {},
     "output_type": "execute_result"
    }
   ],
   "source": [
    "array2"
   ]
  },
  {
   "cell_type": "code",
   "execution_count": 83,
   "id": "a92f2a1a",
   "metadata": {},
   "outputs": [
    {
     "data": {
      "text/plain": [
       "array([[1., 4., 7.],\n",
       "       [2., 5., 8.],\n",
       "       [3., 6., 9.]])"
      ]
     },
     "execution_count": 83,
     "metadata": {},
     "output_type": "execute_result"
    }
   ],
   "source": [
    "np.transpose(array2)"
   ]
  },
  {
   "cell_type": "code",
   "execution_count": 84,
   "id": "1d9ac442",
   "metadata": {},
   "outputs": [
    {
     "data": {
      "text/plain": [
       "array([[1., 4., 7.],\n",
       "       [2., 5., 8.],\n",
       "       [3., 6., 9.]])"
      ]
     },
     "execution_count": 84,
     "metadata": {},
     "output_type": "execute_result"
    }
   ],
   "source": [
    "array2.T"
   ]
  },
  {
   "cell_type": "code",
   "execution_count": 85,
   "id": "69f03ef6",
   "metadata": {},
   "outputs": [
    {
     "data": {
      "text/plain": [
       "array([[1., 4., 7.],\n",
       "       [2., 5., 8.],\n",
       "       [3., 6., 9.]])"
      ]
     },
     "execution_count": 85,
     "metadata": {},
     "output_type": "execute_result"
    }
   ],
   "source": [
    "array2.transpose()"
   ]
  },
  {
   "cell_type": "markdown",
   "id": "4812f9a8",
   "metadata": {},
   "source": [
    "<a name=\"10\"></a>\n",
    "### 10. Dot Product & Element Wise Multiplication"
   ]
  },
  {
   "cell_type": "code",
   "execution_count": 86,
   "id": "5cbf371a",
   "metadata": {},
   "outputs": [],
   "source": [
    "np.random.seed(seed=0)\n",
    "mat1 = np.random.randint(0, 10, size=(5, 3))\n",
    "mat2 = np.random.randint(0, 10, size=(5, 3))"
   ]
  },
  {
   "cell_type": "code",
   "execution_count": 87,
   "id": "b698a558",
   "metadata": {},
   "outputs": [
    {
     "data": {
      "text/plain": [
       "array([[5, 0, 3],\n",
       "       [3, 7, 9],\n",
       "       [3, 5, 2],\n",
       "       [4, 7, 6],\n",
       "       [8, 8, 1]], dtype=int32)"
      ]
     },
     "execution_count": 87,
     "metadata": {},
     "output_type": "execute_result"
    }
   ],
   "source": [
    "mat1"
   ]
  },
  {
   "cell_type": "code",
   "execution_count": 88,
   "id": "a571c2ab",
   "metadata": {},
   "outputs": [
    {
     "data": {
      "text/plain": [
       "array([[6, 7, 7],\n",
       "       [8, 1, 5],\n",
       "       [9, 8, 9],\n",
       "       [4, 3, 0],\n",
       "       [3, 5, 0]], dtype=int32)"
      ]
     },
     "execution_count": 88,
     "metadata": {},
     "output_type": "execute_result"
    }
   ],
   "source": [
    "mat2"
   ]
  },
  {
   "cell_type": "code",
   "execution_count": 89,
   "id": "7b30c0e8",
   "metadata": {},
   "outputs": [
    {
     "name": "stdout",
     "output_type": "stream",
     "text": [
      "mat1 shape is: (5, 3)\n",
      "mat2 shape is: (5, 3)\n"
     ]
    }
   ],
   "source": [
    "print(f\"mat1 shape is: {mat1.shape}\")\n",
    "print(f\"mat2 shape is: {mat2.shape}\")"
   ]
  },
  {
   "cell_type": "code",
   "execution_count": 90,
   "id": "2943ead7",
   "metadata": {},
   "outputs": [
    {
     "data": {
      "text/plain": [
       "array([[30,  0, 21],\n",
       "       [24,  7, 45],\n",
       "       [27, 40, 18],\n",
       "       [16, 21,  0],\n",
       "       [24, 40,  0]], dtype=int32)"
      ]
     },
     "execution_count": 90,
     "metadata": {},
     "output_type": "execute_result"
    }
   ],
   "source": [
    "# Element-wise multiplication\n",
    "mat1 * mat2"
   ]
  },
  {
   "cell_type": "code",
   "execution_count": 91,
   "id": "1908f898",
   "metadata": {},
   "outputs": [
    {
     "data": {
      "text/plain": [
       "array([[30,  0, 21],\n",
       "       [24,  7, 45],\n",
       "       [27, 40, 18],\n",
       "       [16, 21,  0],\n",
       "       [24, 40,  0]], dtype=int32)"
      ]
     },
     "execution_count": 91,
     "metadata": {},
     "output_type": "execute_result"
    }
   ],
   "source": [
    "# Or use np.multiply(arr1, arr2)\n",
    "np.multiply(mat1, mat2)"
   ]
  },
  {
   "cell_type": "markdown",
   "id": "11fdac51",
   "metadata": {},
   "source": [
    "👀 Click [this link](http://matrixmultiplication.xyz/) to seea live demo of **matrices multiplication**.\n",
    "\n",
    "🔗 [source](https://github.com/staltz/matrixmultiplication.xyz)"
   ]
  },
  {
   "cell_type": "code",
   "execution_count": 92,
   "id": "56dc5889",
   "metadata": {},
   "outputs": [
    {
     "ename": "ValueError",
     "evalue": "shapes (5,3) and (5,3) not aligned: 3 (dim 1) != 5 (dim 0)",
     "output_type": "error",
     "traceback": [
      "\u001b[1;31m---------------------------------------------------------------------------\u001b[0m",
      "\u001b[1;31mValueError\u001b[0m                                Traceback (most recent call last)",
      "Cell \u001b[1;32mIn[92], line 2\u001b[0m\n\u001b[0;32m      1\u001b[0m \u001b[38;5;66;03m# Dot product\u001b[39;00m\n\u001b[1;32m----> 2\u001b[0m \u001b[43mnp\u001b[49m\u001b[38;5;241;43m.\u001b[39;49m\u001b[43mdot\u001b[49m\u001b[43m(\u001b[49m\u001b[43mmat1\u001b[49m\u001b[43m,\u001b[49m\u001b[43m \u001b[49m\u001b[43mmat2\u001b[49m\u001b[43m)\u001b[49m\n",
      "\u001b[1;31mValueError\u001b[0m: shapes (5,3) and (5,3) not aligned: 3 (dim 1) != 5 (dim 0)"
     ]
    }
   ],
   "source": [
    "# Dot product\n",
    "np.dot(mat1, mat2)"
   ]
  },
  {
   "cell_type": "code",
   "execution_count": 93,
   "id": "f3e95478",
   "metadata": {},
   "outputs": [
    {
     "data": {
      "text/plain": [
       "array([[ 51,  55,  72,  20,  15],\n",
       "       [130,  76, 164,  33,  44],\n",
       "       [ 67,  39,  85,  27,  34],\n",
       "       [115,  69, 146,  37,  47],\n",
       "       [111,  77, 145,  56,  64]], dtype=int32)"
      ]
     },
     "execution_count": 93,
     "metadata": {},
     "output_type": "execute_result"
    }
   ],
   "source": [
    "# Let's change the shape to be compatible (5, 3) × (3, 5)\n",
    "np.dot(mat1, mat2.T)"
   ]
  },
  {
   "cell_type": "markdown",
   "id": "d929bb44",
   "metadata": {},
   "source": [
    "<a name=\"11\"></a>\n",
    "### 11. Let's Have an Exercise"
   ]
  },
  {
   "cell_type": "code",
   "execution_count": 94,
   "id": "0e8bcddb",
   "metadata": {},
   "outputs": [
    {
     "data": {
      "text/plain": [
       "array([[12, 15,  0],\n",
       "       [ 3,  3,  7],\n",
       "       [ 9, 19, 18],\n",
       "       [ 4,  6, 12],\n",
       "       [ 1,  6,  7]], dtype=int32)"
      ]
     },
     "execution_count": 94,
     "metadata": {},
     "output_type": "execute_result"
    }
   ],
   "source": [
    "np.random.seed(seed=0)\n",
    "# Number of jars sold\n",
    "sales_amount = np.random.randint(20, size=(5, 3))\n",
    "sales_amount"
   ]
  },
  {
   "cell_type": "code",
   "execution_count": 95,
   "id": "42a9e298",
   "metadata": {},
   "outputs": [],
   "source": [
    "# Create weekly_sales DataFrame\n",
    "weekly_sales = pd.DataFrame(sales_amount,\n",
    "                            index=[\"Mon\", \"Tues\", \"Wed\", \"Thrus\", \"Frid\"],\n",
    "                            columns=[\"Almond Butter\", \"Peanut butter\", \"Cashew butter\"])"
   ]
  },
  {
   "cell_type": "code",
   "execution_count": 96,
   "id": "1578ff6f",
   "metadata": {},
   "outputs": [
    {
     "data": {
      "text/html": [
       "<div>\n",
       "<style scoped>\n",
       "    .dataframe tbody tr th:only-of-type {\n",
       "        vertical-align: middle;\n",
       "    }\n",
       "\n",
       "    .dataframe tbody tr th {\n",
       "        vertical-align: top;\n",
       "    }\n",
       "\n",
       "    .dataframe thead th {\n",
       "        text-align: right;\n",
       "    }\n",
       "</style>\n",
       "<table border=\"1\" class=\"dataframe\">\n",
       "  <thead>\n",
       "    <tr style=\"text-align: right;\">\n",
       "      <th></th>\n",
       "      <th>Almond Butter</th>\n",
       "      <th>Peanut butter</th>\n",
       "      <th>Cashew butter</th>\n",
       "    </tr>\n",
       "  </thead>\n",
       "  <tbody>\n",
       "    <tr>\n",
       "      <th>Mon</th>\n",
       "      <td>12</td>\n",
       "      <td>15</td>\n",
       "      <td>0</td>\n",
       "    </tr>\n",
       "    <tr>\n",
       "      <th>Tues</th>\n",
       "      <td>3</td>\n",
       "      <td>3</td>\n",
       "      <td>7</td>\n",
       "    </tr>\n",
       "    <tr>\n",
       "      <th>Wed</th>\n",
       "      <td>9</td>\n",
       "      <td>19</td>\n",
       "      <td>18</td>\n",
       "    </tr>\n",
       "    <tr>\n",
       "      <th>Thrus</th>\n",
       "      <td>4</td>\n",
       "      <td>6</td>\n",
       "      <td>12</td>\n",
       "    </tr>\n",
       "    <tr>\n",
       "      <th>Frid</th>\n",
       "      <td>1</td>\n",
       "      <td>6</td>\n",
       "      <td>7</td>\n",
       "    </tr>\n",
       "  </tbody>\n",
       "</table>\n",
       "</div>"
      ],
      "text/plain": [
       "       Almond Butter  Peanut butter  Cashew butter\n",
       "Mon               12             15              0\n",
       "Tues               3              3              7\n",
       "Wed                9             19             18\n",
       "Thrus              4              6             12\n",
       "Frid               1              6              7"
      ]
     },
     "execution_count": 96,
     "metadata": {},
     "output_type": "execute_result"
    }
   ],
   "source": [
    "weekly_sales"
   ]
  },
  {
   "cell_type": "code",
   "execution_count": 97,
   "id": "69520b8a",
   "metadata": {},
   "outputs": [
    {
     "data": {
      "text/plain": [
       "array([10,  8, 12])"
      ]
     },
     "execution_count": 97,
     "metadata": {},
     "output_type": "execute_result"
    }
   ],
   "source": [
    "# Create 'prices' array\n",
    "prices = np.array([10, 8, 12])\n",
    "prices"
   ]
  },
  {
   "cell_type": "code",
   "execution_count": 98,
   "id": "c6726acd",
   "metadata": {},
   "outputs": [],
   "source": [
    "# To handle the upcoming error\n",
    "prices = prices.reshape(1, 3)"
   ]
  },
  {
   "cell_type": "code",
   "execution_count": 99,
   "id": "72f944e7",
   "metadata": {},
   "outputs": [],
   "source": [
    "# Create butter_prices DataFrame\n",
    "butter_prices = pd.DataFrame(data=prices,\n",
    "                             index=[\"Price\"],\n",
    "                             columns=[\"Almond Butter\", \"Peanut butter\", \"Cashew butter\"])"
   ]
  },
  {
   "cell_type": "code",
   "execution_count": 100,
   "id": "2ebe13e5",
   "metadata": {},
   "outputs": [
    {
     "data": {
      "text/html": [
       "<div>\n",
       "<style scoped>\n",
       "    .dataframe tbody tr th:only-of-type {\n",
       "        vertical-align: middle;\n",
       "    }\n",
       "\n",
       "    .dataframe tbody tr th {\n",
       "        vertical-align: top;\n",
       "    }\n",
       "\n",
       "    .dataframe thead th {\n",
       "        text-align: right;\n",
       "    }\n",
       "</style>\n",
       "<table border=\"1\" class=\"dataframe\">\n",
       "  <thead>\n",
       "    <tr style=\"text-align: right;\">\n",
       "      <th></th>\n",
       "      <th>Almond Butter</th>\n",
       "      <th>Peanut butter</th>\n",
       "      <th>Cashew butter</th>\n",
       "    </tr>\n",
       "  </thead>\n",
       "  <tbody>\n",
       "    <tr>\n",
       "      <th>Price</th>\n",
       "      <td>10</td>\n",
       "      <td>8</td>\n",
       "      <td>12</td>\n",
       "    </tr>\n",
       "  </tbody>\n",
       "</table>\n",
       "</div>"
      ],
      "text/plain": [
       "       Almond Butter  Peanut butter  Cashew butter\n",
       "Price             10              8             12"
      ]
     },
     "execution_count": 100,
     "metadata": {},
     "output_type": "execute_result"
    }
   ],
   "source": [
    "butter_prices"
   ]
  },
  {
   "cell_type": "code",
   "execution_count": 101,
   "id": "776184bb",
   "metadata": {},
   "outputs": [],
   "source": [
    "# Shape aren't aligned and we align them\n",
    "total = np.dot(sales_amount, prices.T)"
   ]
  },
  {
   "cell_type": "code",
   "execution_count": 102,
   "id": "df42d234",
   "metadata": {},
   "outputs": [
    {
     "data": {
      "text/plain": [
       "array([[240],\n",
       "       [138],\n",
       "       [458],\n",
       "       [232],\n",
       "       [142]])"
      ]
     },
     "execution_count": 102,
     "metadata": {},
     "output_type": "execute_result"
    }
   ],
   "source": [
    "total"
   ]
  },
  {
   "cell_type": "code",
   "execution_count": 103,
   "id": "cef2169e",
   "metadata": {},
   "outputs": [],
   "source": [
    "weekly_sales[\"Total\"] = total"
   ]
  },
  {
   "cell_type": "code",
   "execution_count": 104,
   "id": "41873784",
   "metadata": {},
   "outputs": [
    {
     "data": {
      "text/html": [
       "<div>\n",
       "<style scoped>\n",
       "    .dataframe tbody tr th:only-of-type {\n",
       "        vertical-align: middle;\n",
       "    }\n",
       "\n",
       "    .dataframe tbody tr th {\n",
       "        vertical-align: top;\n",
       "    }\n",
       "\n",
       "    .dataframe thead th {\n",
       "        text-align: right;\n",
       "    }\n",
       "</style>\n",
       "<table border=\"1\" class=\"dataframe\">\n",
       "  <thead>\n",
       "    <tr style=\"text-align: right;\">\n",
       "      <th></th>\n",
       "      <th>Almond Butter</th>\n",
       "      <th>Peanut butter</th>\n",
       "      <th>Cashew butter</th>\n",
       "      <th>Total</th>\n",
       "    </tr>\n",
       "  </thead>\n",
       "  <tbody>\n",
       "    <tr>\n",
       "      <th>Mon</th>\n",
       "      <td>12</td>\n",
       "      <td>15</td>\n",
       "      <td>0</td>\n",
       "      <td>240</td>\n",
       "    </tr>\n",
       "    <tr>\n",
       "      <th>Tues</th>\n",
       "      <td>3</td>\n",
       "      <td>3</td>\n",
       "      <td>7</td>\n",
       "      <td>138</td>\n",
       "    </tr>\n",
       "    <tr>\n",
       "      <th>Wed</th>\n",
       "      <td>9</td>\n",
       "      <td>19</td>\n",
       "      <td>18</td>\n",
       "      <td>458</td>\n",
       "    </tr>\n",
       "    <tr>\n",
       "      <th>Thrus</th>\n",
       "      <td>4</td>\n",
       "      <td>6</td>\n",
       "      <td>12</td>\n",
       "      <td>232</td>\n",
       "    </tr>\n",
       "    <tr>\n",
       "      <th>Frid</th>\n",
       "      <td>1</td>\n",
       "      <td>6</td>\n",
       "      <td>7</td>\n",
       "      <td>142</td>\n",
       "    </tr>\n",
       "  </tbody>\n",
       "</table>\n",
       "</div>"
      ],
      "text/plain": [
       "       Almond Butter  Peanut butter  Cashew butter  Total\n",
       "Mon               12             15              0    240\n",
       "Tues               3              3              7    138\n",
       "Wed                9             19             18    458\n",
       "Thrus              4              6             12    232\n",
       "Frid               1              6              7    142"
      ]
     },
     "execution_count": 104,
     "metadata": {},
     "output_type": "execute_result"
    }
   ],
   "source": [
    "weekly_sales"
   ]
  },
  {
   "cell_type": "code",
   "execution_count": 105,
   "id": "e618a9a3",
   "metadata": {},
   "outputs": [
    {
     "data": {
      "text/plain": [
       "<Axes: >"
      ]
     },
     "execution_count": 105,
     "metadata": {},
     "output_type": "execute_result"
    },
    {
     "data": {
      "image/png": "[encoded data removed]",
      "text/plain": [
       "<Figure size 640x480 with 1 Axes>"
      ]
     },
     "metadata": {},
     "output_type": "display_data"
    }
   ],
   "source": [
    "weekly_sales[\"Total\"].plot()"
   ]
  },
  {
   "cell_type": "markdown",
   "id": "d30064e0",
   "metadata": {},
   "source": [
    "<a name=\"12\"></a>\n",
    "### 12. Comparison Operators"
   ]
  },
  {
   "cell_type": "code",
   "execution_count": 106,
   "id": "4c2b9577",
   "metadata": {},
   "outputs": [
    {
     "data": {
      "text/plain": [
       "array([ 5,  7, 10])"
      ]
     },
     "execution_count": 106,
     "metadata": {},
     "output_type": "execute_result"
    }
   ],
   "source": [
    "array1"
   ]
  },
  {
   "cell_type": "code",
   "execution_count": 107,
   "id": "88f7f55f",
   "metadata": {},
   "outputs": [
    {
     "data": {
      "text/plain": [
       "array([[1., 2., 3.],\n",
       "       [4., 5., 6.],\n",
       "       [7., 8., 9.]])"
      ]
     },
     "execution_count": 107,
     "metadata": {},
     "output_type": "execute_result"
    }
   ],
   "source": [
    "array2"
   ]
  },
  {
   "cell_type": "code",
   "execution_count": 108,
   "id": "c18350ee",
   "metadata": {},
   "outputs": [
    {
     "data": {
      "text/plain": [
       "array([[ True,  True,  True],\n",
       "       [ True,  True,  True],\n",
       "       [False, False,  True]])"
      ]
     },
     "execution_count": 108,
     "metadata": {},
     "output_type": "execute_result"
    }
   ],
   "source": [
    "array1 > array2"
   ]
  },
  {
   "cell_type": "code",
   "execution_count": 109,
   "id": "eec4f435",
   "metadata": {},
   "outputs": [
    {
     "data": {
      "text/plain": [
       "array([1., 2., 3., 4., 5., 6., 9.])"
      ]
     },
     "execution_count": 109,
     "metadata": {},
     "output_type": "execute_result"
    }
   ],
   "source": [
    "array2[array1 > array2]"
   ]
  },
  {
   "cell_type": "code",
   "execution_count": 110,
   "id": "c408dda5",
   "metadata": {},
   "outputs": [
    {
     "data": {
      "text/plain": [
       "array([[False, False, False],\n",
       "       [ True,  True,  True],\n",
       "       [ True,  True,  True]])"
      ]
     },
     "execution_count": 110,
     "metadata": {},
     "output_type": "execute_result"
    }
   ],
   "source": [
    "array2 > 3"
   ]
  },
  {
   "cell_type": "code",
   "execution_count": 111,
   "id": "f2638aee",
   "metadata": {},
   "outputs": [
    {
     "data": {
      "text/plain": [
       "array([4., 5., 6., 7., 8., 9.])"
      ]
     },
     "execution_count": 111,
     "metadata": {},
     "output_type": "execute_result"
    }
   ],
   "source": [
    "array2[array2 > 3]"
   ]
  },
  {
   "cell_type": "markdown",
   "id": "96354173",
   "metadata": {},
   "source": [
    "<a name=\"13\"></a>\n",
    "### 13. Sorting Arrays"
   ]
  },
  {
   "cell_type": "code",
   "execution_count": 112,
   "id": "d5051c03",
   "metadata": {},
   "outputs": [],
   "source": [
    "random_array = np.random.randint(0, 10, size=(3, 5))"
   ]
  },
  {
   "cell_type": "code",
   "execution_count": 113,
   "id": "3bdcaf0d",
   "metadata": {},
   "outputs": [
    {
     "data": {
      "text/plain": [
       "array([[7, 8, 1, 5, 9],\n",
       "       [8, 9, 4, 3, 0],\n",
       "       [3, 5, 0, 2, 3]], dtype=int32)"
      ]
     },
     "execution_count": 113,
     "metadata": {},
     "output_type": "execute_result"
    }
   ],
   "source": [
    "random_array"
   ]
  },
  {
   "cell_type": "code",
   "execution_count": 114,
   "id": "193f58a1",
   "metadata": {},
   "outputs": [
    {
     "data": {
      "text/plain": [
       "array([[1, 5, 7, 8, 9],\n",
       "       [0, 3, 4, 8, 9],\n",
       "       [0, 2, 3, 3, 5]], dtype=int32)"
      ]
     },
     "execution_count": 114,
     "metadata": {},
     "output_type": "execute_result"
    }
   ],
   "source": [
    "np.sort(random_array)"
   ]
  },
  {
   "cell_type": "code",
   "execution_count": 115,
   "id": "f95882bc",
   "metadata": {},
   "outputs": [
    {
     "data": {
      "text/plain": [
       "array([[2, 3, 0, 1, 4],\n",
       "       [4, 3, 2, 0, 1],\n",
       "       [2, 3, 0, 4, 1]])"
      ]
     },
     "execution_count": 115,
     "metadata": {},
     "output_type": "execute_result"
    }
   ],
   "source": [
    "# Sorts the values returns the index as an array\n",
    "np.argsort(random_array)"
   ]
  },
  {
   "cell_type": "code",
   "execution_count": 116,
   "id": "de4cda15",
   "metadata": {},
   "outputs": [
    {
     "data": {
      "text/plain": [
       "array([ 5,  7, 10])"
      ]
     },
     "execution_count": 116,
     "metadata": {},
     "output_type": "execute_result"
    }
   ],
   "source": [
    "array1"
   ]
  },
  {
   "cell_type": "code",
   "execution_count": 117,
   "id": "79199701",
   "metadata": {},
   "outputs": [
    {
     "data": {
      "text/plain": [
       "np.int64(0)"
      ]
     },
     "execution_count": 117,
     "metadata": {},
     "output_type": "execute_result"
    }
   ],
   "source": [
    "# Index of minimum value\n",
    "np.argmin(array1)"
   ]
  },
  {
   "cell_type": "code",
   "execution_count": 118,
   "id": "d3ba586f",
   "metadata": {},
   "outputs": [
    {
     "data": {
      "text/plain": [
       "np.int64(8)"
      ]
     },
     "execution_count": 118,
     "metadata": {},
     "output_type": "execute_result"
    }
   ],
   "source": [
    "# Index of maximum value\n",
    "np.argmax(array2)"
   ]
  },
  {
   "cell_type": "markdown",
   "id": "0ddea998",
   "metadata": {},
   "source": [
    "---\n",
    "<a name=\"14\"></a>\n",
    "### 14. Turn Images Into NumPy Arrays"
   ]
  },
  {
   "cell_type": "markdown",
   "id": "17e25605",
   "metadata": {},
   "source": [
    "![panda bear](./Jupyter_Images/panda-image-01.jpg)"
   ]
  },
  {
   "cell_type": "code",
   "execution_count": 119,
   "id": "fe4fd642",
   "metadata": {},
   "outputs": [],
   "source": [
    "# Turn an image into a NumPy array\n",
    "from matplotlib.image import imread"
   ]
  },
  {
   "cell_type": "code",
   "execution_count": 120,
   "id": "12c8a584",
   "metadata": {},
   "outputs": [],
   "source": [
    "panda_image = imread(\"Jupyter_Images/panda-image-01.jpg\")"
   ]
  },
  {
   "cell_type": "code",
   "execution_count": 121,
   "id": "c898982b",
   "metadata": {},
   "outputs": [
    {
     "data": {
      "text/plain": [
       "array([[[45, 69, 53],\n",
       "        [52, 76, 60],\n",
       "        [51, 75, 59],\n",
       "        ...,\n",
       "        [ 8, 14, 14],\n",
       "        [ 5,  6,  8],\n",
       "        [27, 29, 28]],\n",
       "\n",
       "       [[46, 70, 54],\n",
       "        [52, 76, 60],\n",
       "        [52, 76, 60],\n",
       "        ...,\n",
       "        [ 8, 14, 14],\n",
       "        [ 4,  5,  7],\n",
       "        [26, 28, 27]],\n",
       "\n",
       "       [[47, 72, 53],\n",
       "        [53, 78, 59],\n",
       "        [52, 76, 60],\n",
       "        ...,\n",
       "        [ 7, 13, 13],\n",
       "        [ 4,  5,  7],\n",
       "        [26, 28, 27]],\n",
       "\n",
       "       ...,\n",
       "\n",
       "       [[47, 58, 18],\n",
       "        [54, 63, 20],\n",
       "        [44, 52,  3],\n",
       "        ...,\n",
       "        [11, 30,  8],\n",
       "        [ 9, 28,  8],\n",
       "        [16, 35, 13]],\n",
       "\n",
       "       [[69, 79, 42],\n",
       "        [85, 93, 52],\n",
       "        [76, 84, 35],\n",
       "        ...,\n",
       "        [ 6, 23,  4],\n",
       "        [ 5, 22,  4],\n",
       "        [14, 31, 12]],\n",
       "\n",
       "       [[23, 33,  0],\n",
       "        [54, 65, 23],\n",
       "        [60, 68, 21],\n",
       "        ...,\n",
       "        [ 1, 18,  0],\n",
       "        [ 0, 15,  0],\n",
       "        [ 5, 22,  4]]], dtype=uint8)"
      ]
     },
     "execution_count": 121,
     "metadata": {},
     "output_type": "execute_result"
    }
   ],
   "source": [
    "panda_image"
   ]
  },
  {
   "cell_type": "code",
   "execution_count": 122,
   "id": "3a2fffae",
   "metadata": {},
   "outputs": [
    {
     "name": "stdout",
     "output_type": "stream",
     "text": [
      "The shape of panda image: (360, 540, 3)\n",
      "The size of panda image: 583200\n",
      "The ndim of panda image: 3\n"
     ]
    }
   ],
   "source": [
    "print(f\"The shape of panda image: {panda_image.shape}\")\n",
    "print(f\"The size of panda image: {panda_image.size}\")\n",
    "print(f\"The ndim of panda image: {panda_image.ndim}\")"
   ]
  },
  {
   "cell_type": "markdown",
   "id": "0277847e",
   "metadata": {},
   "source": [
    "---\n",
    "<a name=\"more-resources\"></a>\n",
    "### 15. More Resources\n",
    "\n",
    "🔗 [The Basics of NumPy Arrays by Jake VanderPlas](https://jakevdp.github.io/PythonDataScienceHandbook/02.02-the-basics-of-numpy-arrays.html)\n",
    "\n",
    "🔗 [A Visual Introduction to NumPy by Jay Almmar](https://jalammar.github.io/visual-numpy)\n",
    "\n",
    "🔗 [NumPy Quikstart tutorial](https://numpy.org/doc/1.17/user/quickstart.html)"
   ]
  },
  {
   "cell_type": "markdown",
   "id": "c68caf78",
   "metadata": {},
   "source": [
    "---\n",
    "<a name='support-me'></a>\n",
    "### THE END \n",
    "\n",
    "🔸 If you want to be in touch with **me** (Ahmad Ahmadi), click this [link](https://t.me/izlearn_support) to be taken to my **Telegram**.\n",
    "\n",
    "🔸 If you have a **LinkedIn** account, **[this](https://linkedin.com/in/ahmad-ahmadi95/)** is my page I will be happy to have you as my connections.\n",
    "\n",
    "🔸 Finally using this **[link](https://zarinp.al/454855)**(Iran) and this **[link](https://paylink.payment4.com/fa/izlearn/2572d5b8-9ece-48ba-8014-3192ed9274e2)**(out of Iran) you're able to **donate🎁** and **support** our team. 🤙🏼"
   ]
  }
 ],
 "metadata": {
  "kernelspec": {
   "display_name": "Python 3 (ipykernel)",
   "language": "python",
   "name": "python3"
  },
  "language_info": {
   "codemirror_mode": {
    "name": "ipython",
    "version": 3
   },
   "file_extension": ".py",
   "mimetype": "text/x-python",
   "name": "python",
   "nbconvert_exporter": "python",
   "pygments_lexer": "ipython3",
   "version": "3.9.5"
  }
 },
 "nbformat": 4,
 "nbformat_minor": 5
}
